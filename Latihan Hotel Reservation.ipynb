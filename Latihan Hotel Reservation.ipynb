{
 "cells": [
  {
   "cell_type": "code",
   "execution_count": 1,
   "id": "6b698123",
   "metadata": {
    "ExecuteTime": {
     "end_time": "2022-02-07T01:58:34.022522Z",
     "start_time": "2022-02-07T01:58:32.666210Z"
    }
   },
   "outputs": [],
   "source": [
    "#Library\n",
    "#Library \n",
    "# basic data analysis and visualisation\n",
    "import pandas as pd\n",
    "import numpy as np\n",
    "import matplotlib.pyplot as plt\n",
    "import seaborn as sns\n",
    "\n",
    "#preprocessing\n",
    "import category_encoders as ce\n",
    "from sklearn.preprocessing import OneHotEncoder, StandardScaler\n",
    "from sklearn.impute import SimpleImputer\n",
    "from sklearn.compose import ColumnTransformer\n",
    "from sklearn.pipeline import Pipeline\n",
    "\n",
    "#evaluation\n",
    "from sklearn.model_selection import train_test_split, cross_val_score, GridSearchCV,StratifiedKFold\n",
    "from sklearn.metrics import classification_report, accuracy_score, roc_auc_score, average_precision_score, plot_precision_recall_curve, plot_roc_curve,confusion_matrix, recall_score, precision_score,f1_score\n",
    "\n",
    "#models\n",
    "from sklearn.tree import DecisionTreeClassifier, plot_tree\n",
    "from sklearn.linear_model import LogisticRegression\n",
    "from sklearn.neighbors import KNeighborsClassifier\n"
   ]
  },
  {
   "cell_type": "markdown",
   "id": "3a1f8894",
   "metadata": {},
   "source": [
    "# Data\n",
    "* _Ukuran data_ yang digunakan adalah *5000 baris (rows) awal [:5000]*.\n",
    "* _Variabel_ yang dipakai berjumlah 16 kolom, yaitu: ['hotel', 'is_canceled', 'adults', 'children', 'babies', 'meal', 'country', 'market_segment', 'distribution_channel', 'reserved_room_type', 'booking_changes', 'deposit_type', 'days_in_waiting_list', 'customer_type', 'required_car_parking_spaces', 'total_of_special_requests']"
   ]
  },
  {
   "cell_type": "code",
   "execution_count": 2,
   "id": "6023eef8",
   "metadata": {
    "ExecuteTime": {
     "end_time": "2022-02-07T01:58:34.305124Z",
     "start_time": "2022-02-07T01:58:34.022522Z"
    }
   },
   "outputs": [
    {
     "data": {
      "text/html": [
       "<div>\n",
       "<style scoped>\n",
       "    .dataframe tbody tr th:only-of-type {\n",
       "        vertical-align: middle;\n",
       "    }\n",
       "\n",
       "    .dataframe tbody tr th {\n",
       "        vertical-align: top;\n",
       "    }\n",
       "\n",
       "    .dataframe thead th {\n",
       "        text-align: right;\n",
       "    }\n",
       "</style>\n",
       "<table border=\"1\" class=\"dataframe\">\n",
       "  <thead>\n",
       "    <tr style=\"text-align: right;\">\n",
       "      <th></th>\n",
       "      <th>hotel</th>\n",
       "      <th>is_canceled</th>\n",
       "      <th>adults</th>\n",
       "      <th>children</th>\n",
       "      <th>babies</th>\n",
       "      <th>meal</th>\n",
       "      <th>country</th>\n",
       "      <th>market_segment</th>\n",
       "      <th>distribution_channel</th>\n",
       "      <th>reserved_room_type</th>\n",
       "      <th>booking_changes</th>\n",
       "      <th>deposit_type</th>\n",
       "      <th>days_in_waiting_list</th>\n",
       "      <th>customer_type</th>\n",
       "      <th>required_car_parking_spaces</th>\n",
       "      <th>total_of_special_requests</th>\n",
       "    </tr>\n",
       "  </thead>\n",
       "  <tbody>\n",
       "    <tr>\n",
       "      <th>0</th>\n",
       "      <td>Resort Hotel</td>\n",
       "      <td>0</td>\n",
       "      <td>2</td>\n",
       "      <td>0.0</td>\n",
       "      <td>0</td>\n",
       "      <td>BB</td>\n",
       "      <td>PRT</td>\n",
       "      <td>Direct</td>\n",
       "      <td>Direct</td>\n",
       "      <td>C</td>\n",
       "      <td>3</td>\n",
       "      <td>No Deposit</td>\n",
       "      <td>0</td>\n",
       "      <td>Transient</td>\n",
       "      <td>0</td>\n",
       "      <td>0</td>\n",
       "    </tr>\n",
       "    <tr>\n",
       "      <th>1</th>\n",
       "      <td>Resort Hotel</td>\n",
       "      <td>0</td>\n",
       "      <td>2</td>\n",
       "      <td>0.0</td>\n",
       "      <td>0</td>\n",
       "      <td>BB</td>\n",
       "      <td>PRT</td>\n",
       "      <td>Direct</td>\n",
       "      <td>Direct</td>\n",
       "      <td>C</td>\n",
       "      <td>4</td>\n",
       "      <td>No Deposit</td>\n",
       "      <td>0</td>\n",
       "      <td>Transient</td>\n",
       "      <td>0</td>\n",
       "      <td>0</td>\n",
       "    </tr>\n",
       "    <tr>\n",
       "      <th>2</th>\n",
       "      <td>Resort Hotel</td>\n",
       "      <td>0</td>\n",
       "      <td>1</td>\n",
       "      <td>0.0</td>\n",
       "      <td>0</td>\n",
       "      <td>BB</td>\n",
       "      <td>GBR</td>\n",
       "      <td>Direct</td>\n",
       "      <td>Direct</td>\n",
       "      <td>A</td>\n",
       "      <td>0</td>\n",
       "      <td>No Deposit</td>\n",
       "      <td>0</td>\n",
       "      <td>Transient</td>\n",
       "      <td>0</td>\n",
       "      <td>0</td>\n",
       "    </tr>\n",
       "    <tr>\n",
       "      <th>3</th>\n",
       "      <td>Resort Hotel</td>\n",
       "      <td>0</td>\n",
       "      <td>1</td>\n",
       "      <td>0.0</td>\n",
       "      <td>0</td>\n",
       "      <td>BB</td>\n",
       "      <td>GBR</td>\n",
       "      <td>Corporate</td>\n",
       "      <td>Corporate</td>\n",
       "      <td>A</td>\n",
       "      <td>0</td>\n",
       "      <td>No Deposit</td>\n",
       "      <td>0</td>\n",
       "      <td>Transient</td>\n",
       "      <td>0</td>\n",
       "      <td>0</td>\n",
       "    </tr>\n",
       "    <tr>\n",
       "      <th>4</th>\n",
       "      <td>Resort Hotel</td>\n",
       "      <td>0</td>\n",
       "      <td>2</td>\n",
       "      <td>0.0</td>\n",
       "      <td>0</td>\n",
       "      <td>BB</td>\n",
       "      <td>GBR</td>\n",
       "      <td>Online TA</td>\n",
       "      <td>TA/TO</td>\n",
       "      <td>A</td>\n",
       "      <td>0</td>\n",
       "      <td>No Deposit</td>\n",
       "      <td>0</td>\n",
       "      <td>Transient</td>\n",
       "      <td>0</td>\n",
       "      <td>1</td>\n",
       "    </tr>\n",
       "  </tbody>\n",
       "</table>\n",
       "</div>"
      ],
      "text/plain": [
       "          hotel  is_canceled  adults  children  babies meal country  \\\n",
       "0  Resort Hotel            0       2       0.0       0   BB     PRT   \n",
       "1  Resort Hotel            0       2       0.0       0   BB     PRT   \n",
       "2  Resort Hotel            0       1       0.0       0   BB     GBR   \n",
       "3  Resort Hotel            0       1       0.0       0   BB     GBR   \n",
       "4  Resort Hotel            0       2       0.0       0   BB     GBR   \n",
       "\n",
       "  market_segment distribution_channel reserved_room_type  booking_changes  \\\n",
       "0         Direct               Direct                  C                3   \n",
       "1         Direct               Direct                  C                4   \n",
       "2         Direct               Direct                  A                0   \n",
       "3      Corporate            Corporate                  A                0   \n",
       "4      Online TA                TA/TO                  A                0   \n",
       "\n",
       "  deposit_type  days_in_waiting_list customer_type  \\\n",
       "0   No Deposit                     0     Transient   \n",
       "1   No Deposit                     0     Transient   \n",
       "2   No Deposit                     0     Transient   \n",
       "3   No Deposit                     0     Transient   \n",
       "4   No Deposit                     0     Transient   \n",
       "\n",
       "   required_car_parking_spaces  total_of_special_requests  \n",
       "0                            0                          0  \n",
       "1                            0                          0  \n",
       "2                            0                          0  \n",
       "3                            0                          0  \n",
       "4                            0                          1  "
      ]
     },
     "execution_count": 2,
     "metadata": {},
     "output_type": "execute_result"
    }
   ],
   "source": [
    "hotel=pd.read_csv('hotel_bookings.csv')\n",
    "hotel=hotel[:5000]\n",
    "hotel=hotel[['hotel', 'is_canceled', 'adults', 'children', 'babies', 'meal', 'country', 'market_segment', 'distribution_channel', 'reserved_room_type', 'booking_changes', 'deposit_type', 'days_in_waiting_list', 'customer_type', 'required_car_parking_spaces', 'total_of_special_requests']]\n",
    "hotel.head()"
   ]
  },
  {
   "cell_type": "markdown",
   "id": "8a5eff05",
   "metadata": {},
   "source": [
    "## Data detail\n",
    "* 'hotel': \n",
    "    * H1 = Resort Hotel\n",
    "    * H2 = City Hotel `There is no City hotel on the first 5000 rows data`\n",
    "* 'is_canceled': \n",
    "    * Booking was canceled (1) `49.56% customer cancel their booking`\n",
    "    * Booking was not canceled (0)\n",
    "* 'adults': Number of adults\n",
    "* 'children': Number of children (BO and BL)\n",
    "* 'babies': Number of babies (BO and BL)\n",
    "* 'meal': Type of meal booked. Categories are presented in standard hospitality meal packages:\n",
    "    * Undefined/SC – no meal package `this part is categorized as 2 category`\n",
    "    * BB – Bed & Breakfast\n",
    "    * HB – Half board (breakfast and one other meal – usually dinner)\n",
    "    * FB – Full board (breakfast, lunch and dinner)\n",
    "* 'country': Country of origin.\n",
    "* 'market_segment': Market segment designation. \n",
    "    * “TA/TO” means “Travel Agents/Tour Operators” \n",
    "    * “Corporate\"\n",
    "    * \"Direct\"\n",
    "* 'distribution_channel': Booking distribution channel. \n",
    "    * “TA/TO” means “Travel Agents/Tour Operators” \n",
    "    * “Corporate\"\n",
    "    * \"Direct\"\n",
    "* 'reserved_room_type': Code of room type reserved. Code is presented instead of designation for anonymity reasons\n",
    "* 'booking_changes': Number of changes/amendments made to the booking from the moment the booking was entered on the PMS until the moment of check-in or cancellation\n",
    "* 'deposit_type': Indication on if the customer made a deposit to guarantee the booking. This variable can assume three categories:\n",
    "    * No Deposit – no deposit was made\n",
    "    * Non Refund – a deposit was made in the value of the total stay cost\n",
    "    * Refundable – a deposit was made with a value under the total cost of stay\n",
    "* 'days_in_waiting_list': Number of days the booking was in the waiting list before it was confirmed to the customer\n",
    "* 'customer_type': Type of booking, assuming one of four categories:\n",
    "    * Contract - when the booking has an allotment or other type of contract associated to it\n",
    "    * Group – when the booking is associated to a group\n",
    "    * Transient – when the booking is not part of a group or contract, and is not associated to other transient booking\n",
    "    * Transient-party – when the booking is transient, but is associated to at least other transient booking\n",
    "* 'required_car_parking_spaces': Number of car parking spaces required by the customer\n",
    "* 'total_of_special_requests': Number of special requests made by the customer (e.g. twin bed or high floor)"
   ]
  },
  {
   "cell_type": "markdown",
   "id": "2ba910d4",
   "metadata": {},
   "source": [
    "# Cleaning and EDA\n",
    "Lakukan data cleaning:\n",
    "1) cek anomali pada data kalian dan perbaiki sesuai kebutuhan.\n",
    "\n",
    "Lakukan EDA, selain untuk menentukan skema preprocessing kalian, jalankan Exploratory Data Analysis untuk:  \n",
    "1) Memahami profil tamu/konsumen hotel (customer profiling).  \n",
    "2) Memahami kebiasaan tamu/konsumen hotel (customer behavior).  \n",
    "\n",
    "Berikan penjelasan tentang insight yang Anda temukan dari hasil Exploratory Data Analysis ke manajemen hotel!\n"
   ]
  },
  {
   "cell_type": "markdown",
   "id": "a47b0ba8",
   "metadata": {},
   "source": [
    "## Describe and Information"
   ]
  },
  {
   "cell_type": "code",
   "execution_count": 3,
   "id": "fd3a5f7b",
   "metadata": {
    "ExecuteTime": {
     "end_time": "2022-02-07T01:58:35.187638Z",
     "start_time": "2022-02-07T01:58:34.305124Z"
    }
   },
   "outputs": [
    {
     "data": {
      "text/html": [
       "<div>\n",
       "<style scoped>\n",
       "    .dataframe tbody tr th:only-of-type {\n",
       "        vertical-align: middle;\n",
       "    }\n",
       "\n",
       "    .dataframe tbody tr th {\n",
       "        vertical-align: top;\n",
       "    }\n",
       "\n",
       "    .dataframe thead th {\n",
       "        text-align: right;\n",
       "    }\n",
       "</style>\n",
       "<table border=\"1\" class=\"dataframe\">\n",
       "  <thead>\n",
       "    <tr style=\"text-align: right;\">\n",
       "      <th></th>\n",
       "      <th>is_canceled</th>\n",
       "      <th>adults</th>\n",
       "      <th>children</th>\n",
       "      <th>babies</th>\n",
       "      <th>booking_changes</th>\n",
       "      <th>days_in_waiting_list</th>\n",
       "      <th>required_car_parking_spaces</th>\n",
       "      <th>total_of_special_requests</th>\n",
       "    </tr>\n",
       "  </thead>\n",
       "  <tbody>\n",
       "    <tr>\n",
       "      <th>count</th>\n",
       "      <td>5000.000000</td>\n",
       "      <td>5000.000000</td>\n",
       "      <td>5000.000000</td>\n",
       "      <td>5000.000000</td>\n",
       "      <td>5000.000000</td>\n",
       "      <td>5000.000000</td>\n",
       "      <td>5000.000000</td>\n",
       "      <td>5000.000000</td>\n",
       "    </tr>\n",
       "    <tr>\n",
       "      <th>mean</th>\n",
       "      <td>0.459600</td>\n",
       "      <td>1.969800</td>\n",
       "      <td>0.115600</td>\n",
       "      <td>0.014800</td>\n",
       "      <td>0.207200</td>\n",
       "      <td>1.772000</td>\n",
       "      <td>0.093800</td>\n",
       "      <td>0.602000</td>\n",
       "    </tr>\n",
       "    <tr>\n",
       "      <th>std</th>\n",
       "      <td>0.498415</td>\n",
       "      <td>1.566326</td>\n",
       "      <td>0.444833</td>\n",
       "      <td>0.122409</td>\n",
       "      <td>0.612489</td>\n",
       "      <td>13.545358</td>\n",
       "      <td>0.292948</td>\n",
       "      <td>0.823245</td>\n",
       "    </tr>\n",
       "    <tr>\n",
       "      <th>min</th>\n",
       "      <td>0.000000</td>\n",
       "      <td>0.000000</td>\n",
       "      <td>0.000000</td>\n",
       "      <td>0.000000</td>\n",
       "      <td>0.000000</td>\n",
       "      <td>0.000000</td>\n",
       "      <td>0.000000</td>\n",
       "      <td>0.000000</td>\n",
       "    </tr>\n",
       "    <tr>\n",
       "      <th>25%</th>\n",
       "      <td>0.000000</td>\n",
       "      <td>2.000000</td>\n",
       "      <td>0.000000</td>\n",
       "      <td>0.000000</td>\n",
       "      <td>0.000000</td>\n",
       "      <td>0.000000</td>\n",
       "      <td>0.000000</td>\n",
       "      <td>0.000000</td>\n",
       "    </tr>\n",
       "    <tr>\n",
       "      <th>50%</th>\n",
       "      <td>0.000000</td>\n",
       "      <td>2.000000</td>\n",
       "      <td>0.000000</td>\n",
       "      <td>0.000000</td>\n",
       "      <td>0.000000</td>\n",
       "      <td>0.000000</td>\n",
       "      <td>0.000000</td>\n",
       "      <td>0.000000</td>\n",
       "    </tr>\n",
       "    <tr>\n",
       "      <th>75%</th>\n",
       "      <td>1.000000</td>\n",
       "      <td>2.000000</td>\n",
       "      <td>0.000000</td>\n",
       "      <td>0.000000</td>\n",
       "      <td>0.000000</td>\n",
       "      <td>0.000000</td>\n",
       "      <td>0.000000</td>\n",
       "      <td>1.000000</td>\n",
       "    </tr>\n",
       "    <tr>\n",
       "      <th>max</th>\n",
       "      <td>1.000000</td>\n",
       "      <td>55.000000</td>\n",
       "      <td>10.000000</td>\n",
       "      <td>2.000000</td>\n",
       "      <td>17.000000</td>\n",
       "      <td>122.000000</td>\n",
       "      <td>2.000000</td>\n",
       "      <td>4.000000</td>\n",
       "    </tr>\n",
       "  </tbody>\n",
       "</table>\n",
       "</div>"
      ],
      "text/plain": [
       "       is_canceled       adults     children       babies  booking_changes  \\\n",
       "count  5000.000000  5000.000000  5000.000000  5000.000000      5000.000000   \n",
       "mean      0.459600     1.969800     0.115600     0.014800         0.207200   \n",
       "std       0.498415     1.566326     0.444833     0.122409         0.612489   \n",
       "min       0.000000     0.000000     0.000000     0.000000         0.000000   \n",
       "25%       0.000000     2.000000     0.000000     0.000000         0.000000   \n",
       "50%       0.000000     2.000000     0.000000     0.000000         0.000000   \n",
       "75%       1.000000     2.000000     0.000000     0.000000         0.000000   \n",
       "max       1.000000    55.000000    10.000000     2.000000        17.000000   \n",
       "\n",
       "       days_in_waiting_list  required_car_parking_spaces  \\\n",
       "count           5000.000000                  5000.000000   \n",
       "mean               1.772000                     0.093800   \n",
       "std               13.545358                     0.292948   \n",
       "min                0.000000                     0.000000   \n",
       "25%                0.000000                     0.000000   \n",
       "50%                0.000000                     0.000000   \n",
       "75%                0.000000                     0.000000   \n",
       "max              122.000000                     2.000000   \n",
       "\n",
       "       total_of_special_requests  \n",
       "count                5000.000000  \n",
       "mean                    0.602000  \n",
       "std                     0.823245  \n",
       "min                     0.000000  \n",
       "25%                     0.000000  \n",
       "50%                     0.000000  \n",
       "75%                     1.000000  \n",
       "max                     4.000000  "
      ]
     },
     "execution_count": 3,
     "metadata": {},
     "output_type": "execute_result"
    }
   ],
   "source": [
    "hotel.describe()"
   ]
  },
  {
   "cell_type": "code",
   "execution_count": 4,
   "id": "da891dbc",
   "metadata": {
    "ExecuteTime": {
     "end_time": "2022-02-07T01:58:35.341841Z",
     "start_time": "2022-02-07T01:58:35.189364Z"
    }
   },
   "outputs": [
    {
     "data": {
      "text/html": [
       "<div>\n",
       "<style scoped>\n",
       "    .dataframe tbody tr th:only-of-type {\n",
       "        vertical-align: middle;\n",
       "    }\n",
       "\n",
       "    .dataframe tbody tr th {\n",
       "        vertical-align: top;\n",
       "    }\n",
       "\n",
       "    .dataframe thead th {\n",
       "        text-align: right;\n",
       "    }\n",
       "</style>\n",
       "<table border=\"1\" class=\"dataframe\">\n",
       "  <thead>\n",
       "    <tr style=\"text-align: right;\">\n",
       "      <th></th>\n",
       "      <th>hotel</th>\n",
       "      <th>meal</th>\n",
       "      <th>country</th>\n",
       "      <th>market_segment</th>\n",
       "      <th>distribution_channel</th>\n",
       "      <th>reserved_room_type</th>\n",
       "      <th>deposit_type</th>\n",
       "      <th>customer_type</th>\n",
       "    </tr>\n",
       "  </thead>\n",
       "  <tbody>\n",
       "    <tr>\n",
       "      <th>count</th>\n",
       "      <td>5000</td>\n",
       "      <td>5000</td>\n",
       "      <td>4998</td>\n",
       "      <td>5000</td>\n",
       "      <td>5000</td>\n",
       "      <td>5000</td>\n",
       "      <td>5000</td>\n",
       "      <td>5000</td>\n",
       "    </tr>\n",
       "    <tr>\n",
       "      <th>unique</th>\n",
       "      <td>1</td>\n",
       "      <td>5</td>\n",
       "      <td>56</td>\n",
       "      <td>6</td>\n",
       "      <td>3</td>\n",
       "      <td>9</td>\n",
       "      <td>3</td>\n",
       "      <td>4</td>\n",
       "    </tr>\n",
       "    <tr>\n",
       "      <th>top</th>\n",
       "      <td>Resort Hotel</td>\n",
       "      <td>BB</td>\n",
       "      <td>PRT</td>\n",
       "      <td>Online TA</td>\n",
       "      <td>TA/TO</td>\n",
       "      <td>A</td>\n",
       "      <td>No Deposit</td>\n",
       "      <td>Transient</td>\n",
       "    </tr>\n",
       "    <tr>\n",
       "      <th>freq</th>\n",
       "      <td>5000</td>\n",
       "      <td>3418</td>\n",
       "      <td>3174</td>\n",
       "      <td>2156</td>\n",
       "      <td>3657</td>\n",
       "      <td>3167</td>\n",
       "      <td>4461</td>\n",
       "      <td>3699</td>\n",
       "    </tr>\n",
       "  </tbody>\n",
       "</table>\n",
       "</div>"
      ],
      "text/plain": [
       "               hotel  meal country market_segment distribution_channel  \\\n",
       "count           5000  5000    4998           5000                 5000   \n",
       "unique             1     5      56              6                    3   \n",
       "top     Resort Hotel    BB     PRT      Online TA                TA/TO   \n",
       "freq            5000  3418    3174           2156                 3657   \n",
       "\n",
       "       reserved_room_type deposit_type customer_type  \n",
       "count                5000         5000          5000  \n",
       "unique                  9            3             4  \n",
       "top                     A   No Deposit     Transient  \n",
       "freq                 3167         4461          3699  "
      ]
     },
     "execution_count": 4,
     "metadata": {},
     "output_type": "execute_result"
    }
   ],
   "source": [
    "hotel.describe(include='object')"
   ]
  },
  {
   "cell_type": "code",
   "execution_count": 5,
   "id": "cbadc95c",
   "metadata": {
    "ExecuteTime": {
     "end_time": "2022-02-07T01:58:35.432398Z",
     "start_time": "2022-02-07T01:58:35.344756Z"
    }
   },
   "outputs": [
    {
     "name": "stdout",
     "output_type": "stream",
     "text": [
      "<class 'pandas.core.frame.DataFrame'>\n",
      "RangeIndex: 5000 entries, 0 to 4999\n",
      "Data columns (total 16 columns):\n",
      " #   Column                       Non-Null Count  Dtype  \n",
      "---  ------                       --------------  -----  \n",
      " 0   hotel                        5000 non-null   object \n",
      " 1   is_canceled                  5000 non-null   int64  \n",
      " 2   adults                       5000 non-null   int64  \n",
      " 3   children                     5000 non-null   float64\n",
      " 4   babies                       5000 non-null   int64  \n",
      " 5   meal                         5000 non-null   object \n",
      " 6   country                      4998 non-null   object \n",
      " 7   market_segment               5000 non-null   object \n",
      " 8   distribution_channel         5000 non-null   object \n",
      " 9   reserved_room_type           5000 non-null   object \n",
      " 10  booking_changes              5000 non-null   int64  \n",
      " 11  deposit_type                 5000 non-null   object \n",
      " 12  days_in_waiting_list         5000 non-null   int64  \n",
      " 13  customer_type                5000 non-null   object \n",
      " 14  required_car_parking_spaces  5000 non-null   int64  \n",
      " 15  total_of_special_requests    5000 non-null   int64  \n",
      "dtypes: float64(1), int64(7), object(8)\n",
      "memory usage: 625.1+ KB\n"
     ]
    }
   ],
   "source": [
    "#there is missing value on column country \n",
    "hotel.info()"
   ]
  },
  {
   "cell_type": "markdown",
   "id": "cf58bc51",
   "metadata": {},
   "source": [
    "## Missing Value"
   ]
  },
  {
   "cell_type": "markdown",
   "id": "9af532c5",
   "metadata": {},
   "source": [
    "The missing value is found on country columns and it just 2 rows, so it will be deleted"
   ]
  },
  {
   "cell_type": "code",
   "execution_count": 6,
   "id": "945c89d5",
   "metadata": {
    "ExecuteTime": {
     "end_time": "2022-02-07T01:58:35.754493Z",
     "start_time": "2022-02-07T01:58:35.432398Z"
    }
   },
   "outputs": [
    {
     "data": {
      "text/plain": [
       "Int64Index([30, 4127], dtype='int64')"
      ]
     },
     "execution_count": 6,
     "metadata": {},
     "output_type": "execute_result"
    }
   ],
   "source": [
    "hotel[hotel['country'].isna()==True].index"
   ]
  },
  {
   "cell_type": "code",
   "execution_count": 7,
   "id": "9ee1675f",
   "metadata": {
    "ExecuteTime": {
     "end_time": "2022-02-07T01:58:36.031325Z",
     "start_time": "2022-02-07T01:58:35.756850Z"
    }
   },
   "outputs": [
    {
     "data": {
      "text/plain": [
       "hotel                          0\n",
       "is_canceled                    0\n",
       "adults                         0\n",
       "children                       0\n",
       "babies                         0\n",
       "meal                           0\n",
       "country                        0\n",
       "market_segment                 0\n",
       "distribution_channel           0\n",
       "reserved_room_type             0\n",
       "booking_changes                0\n",
       "deposit_type                   0\n",
       "days_in_waiting_list           0\n",
       "customer_type                  0\n",
       "required_car_parking_spaces    0\n",
       "total_of_special_requests      0\n",
       "dtype: int64"
      ]
     },
     "execution_count": 7,
     "metadata": {},
     "output_type": "execute_result"
    }
   ],
   "source": [
    "hotel=hotel.drop(hotel.index[[30,4127]]).reset_index(drop=True)\n",
    "hotel.isna().sum()"
   ]
  },
  {
   "cell_type": "markdown",
   "id": "300ee3d9",
   "metadata": {},
   "source": [
    "## Inconsistency Data"
   ]
  },
  {
   "cell_type": "code",
   "execution_count": 8,
   "id": "5bd63895",
   "metadata": {
    "ExecuteTime": {
     "end_time": "2022-02-07T01:58:36.231272Z",
     "start_time": "2022-02-07T01:58:36.034178Z"
    }
   },
   "outputs": [
    {
     "data": {
      "text/plain": [
       "hotel                           1\n",
       "is_canceled                     2\n",
       "adults                         14\n",
       "children                        4\n",
       "babies                          3\n",
       "meal                            5\n",
       "country                        56\n",
       "market_segment                  6\n",
       "distribution_channel            3\n",
       "reserved_room_type              8\n",
       "booking_changes                 8\n",
       "deposit_type                    3\n",
       "days_in_waiting_list            5\n",
       "customer_type                   4\n",
       "required_car_parking_spaces     3\n",
       "total_of_special_requests       5\n",
       "dtype: int64"
      ]
     },
     "execution_count": 8,
     "metadata": {},
     "output_type": "execute_result"
    }
   ],
   "source": [
    "hotel.nunique()"
   ]
  },
  {
   "cell_type": "code",
   "execution_count": 9,
   "id": "3a2dffea",
   "metadata": {
    "ExecuteTime": {
     "end_time": "2022-02-07T01:58:36.410373Z",
     "start_time": "2022-02-07T01:58:36.234166Z"
    }
   },
   "outputs": [
    {
     "data": {
      "text/plain": [
       "Online TA        2156\n",
       "Groups           1025\n",
       "Offline TA/TO     928\n",
       "Direct            617\n",
       "Corporate         261\n",
       "Complementary      11\n",
       "Name: market_segment, dtype: int64"
      ]
     },
     "execution_count": 9,
     "metadata": {},
     "output_type": "execute_result"
    }
   ],
   "source": [
    "#Unique data on market segment is different with data detail on science direct\n",
    "hotel['market_segment'].value_counts()"
   ]
  },
  {
   "cell_type": "code",
   "execution_count": 10,
   "id": "6bf549b1",
   "metadata": {
    "ExecuteTime": {
     "end_time": "2022-02-07T01:58:36.545556Z",
     "start_time": "2022-02-07T01:58:36.410373Z"
    }
   },
   "outputs": [
    {
     "data": {
      "text/plain": [
       "TA/TO        3656\n",
       "Direct       1067\n",
       "Corporate     275\n",
       "Name: distribution_channel, dtype: int64"
      ]
     },
     "execution_count": 10,
     "metadata": {},
     "output_type": "execute_result"
    }
   ],
   "source": [
    "#Unique data on distribution channel is different with data detail on science direct\n",
    "hotel['distribution_channel'].value_counts()"
   ]
  },
  {
   "cell_type": "code",
   "execution_count": 11,
   "id": "8768b2f2",
   "metadata": {
    "ExecuteTime": {
     "end_time": "2022-02-07T01:58:36.744266Z",
     "start_time": "2022-02-07T01:58:36.545556Z"
    }
   },
   "outputs": [
    {
     "data": {
      "text/plain": [
       "market_segment  distribution_channel\n",
       "Complementary   Corporate                  1\n",
       "                Direct                     8\n",
       "                TA/TO                      2\n",
       "Corporate       Corporate                251\n",
       "                Direct                    10\n",
       "Direct          Corporate                  1\n",
       "                Direct                   605\n",
       "                TA/TO                     11\n",
       "Groups          Corporate                 22\n",
       "                Direct                   441\n",
       "                TA/TO                    562\n",
       "Offline TA/TO   Direct                     3\n",
       "                TA/TO                    925\n",
       "Online TA       TA/TO                   2156\n",
       "dtype: int64"
      ]
     },
     "execution_count": 11,
     "metadata": {},
     "output_type": "execute_result"
    }
   ],
   "source": [
    "hotel.pivot_table(index=['market_segment','distribution_channel'],aggfunc='size')"
   ]
  },
  {
   "cell_type": "markdown",
   "id": "664a0383",
   "metadata": {},
   "source": [
    "**Market_segment will follow distribution Channel**  \n",
    "this way may be not the best way since there is Complementary and Groups segmentation on market segment"
   ]
  },
  {
   "cell_type": "code",
   "execution_count": 12,
   "id": "5c447966",
   "metadata": {
    "ExecuteTime": {
     "end_time": "2022-02-07T01:58:36.900999Z",
     "start_time": "2022-02-07T01:58:36.744648Z"
    }
   },
   "outputs": [
    {
     "name": "stderr",
     "output_type": "stream",
     "text": [
      "C:\\Users\\user\\anaconda3\\lib\\site-packages\\pandas\\core\\indexing.py:1637: SettingWithCopyWarning: \n",
      "A value is trying to be set on a copy of a slice from a DataFrame\n",
      "\n",
      "See the caveats in the documentation: https://pandas.pydata.org/pandas-docs/stable/user_guide/indexing.html#returning-a-view-versus-a-copy\n",
      "  self._setitem_single_block(indexer, value, name)\n"
     ]
    },
    {
     "data": {
      "text/html": [
       "<div>\n",
       "<style scoped>\n",
       "    .dataframe tbody tr th:only-of-type {\n",
       "        vertical-align: middle;\n",
       "    }\n",
       "\n",
       "    .dataframe tbody tr th {\n",
       "        vertical-align: top;\n",
       "    }\n",
       "\n",
       "    .dataframe thead th {\n",
       "        text-align: right;\n",
       "    }\n",
       "</style>\n",
       "<table border=\"1\" class=\"dataframe\">\n",
       "  <thead>\n",
       "    <tr style=\"text-align: right;\">\n",
       "      <th></th>\n",
       "      <th>hotel</th>\n",
       "      <th>is_canceled</th>\n",
       "      <th>adults</th>\n",
       "      <th>children</th>\n",
       "      <th>babies</th>\n",
       "      <th>meal</th>\n",
       "      <th>country</th>\n",
       "      <th>market_segment</th>\n",
       "      <th>distribution_channel</th>\n",
       "      <th>reserved_room_type</th>\n",
       "      <th>booking_changes</th>\n",
       "      <th>deposit_type</th>\n",
       "      <th>days_in_waiting_list</th>\n",
       "      <th>customer_type</th>\n",
       "      <th>required_car_parking_spaces</th>\n",
       "      <th>total_of_special_requests</th>\n",
       "    </tr>\n",
       "  </thead>\n",
       "  <tbody>\n",
       "    <tr>\n",
       "      <th>124</th>\n",
       "      <td>Resort Hotel</td>\n",
       "      <td>0</td>\n",
       "      <td>4</td>\n",
       "      <td>0.0</td>\n",
       "      <td>0</td>\n",
       "      <td>FB</td>\n",
       "      <td>PRT</td>\n",
       "      <td>Direct</td>\n",
       "      <td>Direct</td>\n",
       "      <td>H</td>\n",
       "      <td>2</td>\n",
       "      <td>No Deposit</td>\n",
       "      <td>0</td>\n",
       "      <td>Transient</td>\n",
       "      <td>0</td>\n",
       "      <td>1</td>\n",
       "    </tr>\n",
       "    <tr>\n",
       "      <th>1704</th>\n",
       "      <td>Resort Hotel</td>\n",
       "      <td>0</td>\n",
       "      <td>1</td>\n",
       "      <td>0.0</td>\n",
       "      <td>0</td>\n",
       "      <td>BB</td>\n",
       "      <td>PRT</td>\n",
       "      <td>Direct</td>\n",
       "      <td>Direct</td>\n",
       "      <td>C</td>\n",
       "      <td>0</td>\n",
       "      <td>No Deposit</td>\n",
       "      <td>0</td>\n",
       "      <td>Transient</td>\n",
       "      <td>0</td>\n",
       "      <td>0</td>\n",
       "    </tr>\n",
       "    <tr>\n",
       "      <th>2239</th>\n",
       "      <td>Resort Hotel</td>\n",
       "      <td>0</td>\n",
       "      <td>2</td>\n",
       "      <td>0.0</td>\n",
       "      <td>0</td>\n",
       "      <td>FB</td>\n",
       "      <td>PRT</td>\n",
       "      <td>Direct</td>\n",
       "      <td>Direct</td>\n",
       "      <td>F</td>\n",
       "      <td>0</td>\n",
       "      <td>No Deposit</td>\n",
       "      <td>0</td>\n",
       "      <td>Transient</td>\n",
       "      <td>0</td>\n",
       "      <td>2</td>\n",
       "    </tr>\n",
       "    <tr>\n",
       "      <th>2241</th>\n",
       "      <td>Resort Hotel</td>\n",
       "      <td>0</td>\n",
       "      <td>3</td>\n",
       "      <td>0.0</td>\n",
       "      <td>0</td>\n",
       "      <td>BB</td>\n",
       "      <td>AGO</td>\n",
       "      <td>Direct</td>\n",
       "      <td>Direct</td>\n",
       "      <td>A</td>\n",
       "      <td>1</td>\n",
       "      <td>No Deposit</td>\n",
       "      <td>0</td>\n",
       "      <td>Transient</td>\n",
       "      <td>0</td>\n",
       "      <td>0</td>\n",
       "    </tr>\n",
       "    <tr>\n",
       "      <th>2447</th>\n",
       "      <td>Resort Hotel</td>\n",
       "      <td>0</td>\n",
       "      <td>1</td>\n",
       "      <td>0.0</td>\n",
       "      <td>0</td>\n",
       "      <td>HB</td>\n",
       "      <td>PRT</td>\n",
       "      <td>Direct</td>\n",
       "      <td>Direct</td>\n",
       "      <td>E</td>\n",
       "      <td>0</td>\n",
       "      <td>No Deposit</td>\n",
       "      <td>0</td>\n",
       "      <td>Transient</td>\n",
       "      <td>0</td>\n",
       "      <td>3</td>\n",
       "    </tr>\n",
       "    <tr>\n",
       "      <th>2594</th>\n",
       "      <td>Resort Hotel</td>\n",
       "      <td>0</td>\n",
       "      <td>1</td>\n",
       "      <td>0.0</td>\n",
       "      <td>0</td>\n",
       "      <td>BB</td>\n",
       "      <td>ESP</td>\n",
       "      <td>TA/TO</td>\n",
       "      <td>TA/TO</td>\n",
       "      <td>F</td>\n",
       "      <td>0</td>\n",
       "      <td>No Deposit</td>\n",
       "      <td>0</td>\n",
       "      <td>Transient</td>\n",
       "      <td>0</td>\n",
       "      <td>1</td>\n",
       "    </tr>\n",
       "    <tr>\n",
       "      <th>3255</th>\n",
       "      <td>Resort Hotel</td>\n",
       "      <td>0</td>\n",
       "      <td>2</td>\n",
       "      <td>0.0</td>\n",
       "      <td>0</td>\n",
       "      <td>BB</td>\n",
       "      <td>PRT</td>\n",
       "      <td>Corporate</td>\n",
       "      <td>Corporate</td>\n",
       "      <td>A</td>\n",
       "      <td>1</td>\n",
       "      <td>No Deposit</td>\n",
       "      <td>0</td>\n",
       "      <td>Transient</td>\n",
       "      <td>0</td>\n",
       "      <td>0</td>\n",
       "    </tr>\n",
       "    <tr>\n",
       "      <th>3831</th>\n",
       "      <td>Resort Hotel</td>\n",
       "      <td>1</td>\n",
       "      <td>1</td>\n",
       "      <td>0.0</td>\n",
       "      <td>0</td>\n",
       "      <td>BB</td>\n",
       "      <td>PRT</td>\n",
       "      <td>TA/TO</td>\n",
       "      <td>TA/TO</td>\n",
       "      <td>F</td>\n",
       "      <td>0</td>\n",
       "      <td>No Deposit</td>\n",
       "      <td>0</td>\n",
       "      <td>Transient</td>\n",
       "      <td>0</td>\n",
       "      <td>0</td>\n",
       "    </tr>\n",
       "    <tr>\n",
       "      <th>4438</th>\n",
       "      <td>Resort Hotel</td>\n",
       "      <td>1</td>\n",
       "      <td>2</td>\n",
       "      <td>0.0</td>\n",
       "      <td>0</td>\n",
       "      <td>BB</td>\n",
       "      <td>PRT</td>\n",
       "      <td>Direct</td>\n",
       "      <td>Direct</td>\n",
       "      <td>A</td>\n",
       "      <td>1</td>\n",
       "      <td>No Deposit</td>\n",
       "      <td>0</td>\n",
       "      <td>Transient</td>\n",
       "      <td>0</td>\n",
       "      <td>0</td>\n",
       "    </tr>\n",
       "    <tr>\n",
       "      <th>4440</th>\n",
       "      <td>Resort Hotel</td>\n",
       "      <td>1</td>\n",
       "      <td>2</td>\n",
       "      <td>0.0</td>\n",
       "      <td>0</td>\n",
       "      <td>BB</td>\n",
       "      <td>PRT</td>\n",
       "      <td>Direct</td>\n",
       "      <td>Direct</td>\n",
       "      <td>A</td>\n",
       "      <td>0</td>\n",
       "      <td>No Deposit</td>\n",
       "      <td>0</td>\n",
       "      <td>Transient</td>\n",
       "      <td>0</td>\n",
       "      <td>0</td>\n",
       "    </tr>\n",
       "    <tr>\n",
       "      <th>4453</th>\n",
       "      <td>Resort Hotel</td>\n",
       "      <td>1</td>\n",
       "      <td>3</td>\n",
       "      <td>1.0</td>\n",
       "      <td>0</td>\n",
       "      <td>BB</td>\n",
       "      <td>PRT</td>\n",
       "      <td>Direct</td>\n",
       "      <td>Direct</td>\n",
       "      <td>C</td>\n",
       "      <td>0</td>\n",
       "      <td>No Deposit</td>\n",
       "      <td>0</td>\n",
       "      <td>Transient</td>\n",
       "      <td>0</td>\n",
       "      <td>0</td>\n",
       "    </tr>\n",
       "  </tbody>\n",
       "</table>\n",
       "</div>"
      ],
      "text/plain": [
       "             hotel  is_canceled  adults  children  babies meal country  \\\n",
       "124   Resort Hotel            0       4       0.0       0   FB     PRT   \n",
       "1704  Resort Hotel            0       1       0.0       0   BB     PRT   \n",
       "2239  Resort Hotel            0       2       0.0       0   FB     PRT   \n",
       "2241  Resort Hotel            0       3       0.0       0   BB     AGO   \n",
       "2447  Resort Hotel            0       1       0.0       0   HB     PRT   \n",
       "2594  Resort Hotel            0       1       0.0       0   BB     ESP   \n",
       "3255  Resort Hotel            0       2       0.0       0   BB     PRT   \n",
       "3831  Resort Hotel            1       1       0.0       0   BB     PRT   \n",
       "4438  Resort Hotel            1       2       0.0       0   BB     PRT   \n",
       "4440  Resort Hotel            1       2       0.0       0   BB     PRT   \n",
       "4453  Resort Hotel            1       3       1.0       0   BB     PRT   \n",
       "\n",
       "     market_segment distribution_channel reserved_room_type  booking_changes  \\\n",
       "124          Direct               Direct                  H                2   \n",
       "1704         Direct               Direct                  C                0   \n",
       "2239         Direct               Direct                  F                0   \n",
       "2241         Direct               Direct                  A                1   \n",
       "2447         Direct               Direct                  E                0   \n",
       "2594          TA/TO                TA/TO                  F                0   \n",
       "3255      Corporate            Corporate                  A                1   \n",
       "3831          TA/TO                TA/TO                  F                0   \n",
       "4438         Direct               Direct                  A                1   \n",
       "4440         Direct               Direct                  A                0   \n",
       "4453         Direct               Direct                  C                0   \n",
       "\n",
       "     deposit_type  days_in_waiting_list customer_type  \\\n",
       "124    No Deposit                     0     Transient   \n",
       "1704   No Deposit                     0     Transient   \n",
       "2239   No Deposit                     0     Transient   \n",
       "2241   No Deposit                     0     Transient   \n",
       "2447   No Deposit                     0     Transient   \n",
       "2594   No Deposit                     0     Transient   \n",
       "3255   No Deposit                     0     Transient   \n",
       "3831   No Deposit                     0     Transient   \n",
       "4438   No Deposit                     0     Transient   \n",
       "4440   No Deposit                     0     Transient   \n",
       "4453   No Deposit                     0     Transient   \n",
       "\n",
       "      required_car_parking_spaces  total_of_special_requests  \n",
       "124                             0                          1  \n",
       "1704                            0                          0  \n",
       "2239                            0                          2  \n",
       "2241                            0                          0  \n",
       "2447                            0                          3  \n",
       "2594                            0                          1  \n",
       "3255                            0                          0  \n",
       "3831                            0                          0  \n",
       "4438                            0                          0  \n",
       "4440                            0                          0  \n",
       "4453                            0                          0  "
      ]
     },
     "execution_count": 12,
     "metadata": {},
     "output_type": "execute_result"
    }
   ],
   "source": [
    "comind=hotel[hotel['market_segment']=='Complementary']['market_segment'].index\n",
    "hotel['market_segment'].loc[comind]=hotel['distribution_channel'].loc[comind]\n",
    "hotel.loc[comind]"
   ]
  },
  {
   "cell_type": "code",
   "execution_count": 13,
   "id": "bbaa1da6",
   "metadata": {
    "ExecuteTime": {
     "end_time": "2022-02-07T01:58:37.091934Z",
     "start_time": "2022-02-07T01:58:36.900999Z"
    }
   },
   "outputs": [
    {
     "name": "stderr",
     "output_type": "stream",
     "text": [
      "C:\\Users\\user\\anaconda3\\lib\\site-packages\\pandas\\core\\indexing.py:1637: SettingWithCopyWarning: \n",
      "A value is trying to be set on a copy of a slice from a DataFrame\n",
      "\n",
      "See the caveats in the documentation: https://pandas.pydata.org/pandas-docs/stable/user_guide/indexing.html#returning-a-view-versus-a-copy\n",
      "  self._setitem_single_block(indexer, value, name)\n"
     ]
    },
    {
     "data": {
      "text/html": [
       "<div>\n",
       "<style scoped>\n",
       "    .dataframe tbody tr th:only-of-type {\n",
       "        vertical-align: middle;\n",
       "    }\n",
       "\n",
       "    .dataframe tbody tr th {\n",
       "        vertical-align: top;\n",
       "    }\n",
       "\n",
       "    .dataframe thead th {\n",
       "        text-align: right;\n",
       "    }\n",
       "</style>\n",
       "<table border=\"1\" class=\"dataframe\">\n",
       "  <thead>\n",
       "    <tr style=\"text-align: right;\">\n",
       "      <th></th>\n",
       "      <th>hotel</th>\n",
       "      <th>is_canceled</th>\n",
       "      <th>adults</th>\n",
       "      <th>children</th>\n",
       "      <th>babies</th>\n",
       "      <th>meal</th>\n",
       "      <th>country</th>\n",
       "      <th>market_segment</th>\n",
       "      <th>distribution_channel</th>\n",
       "      <th>reserved_room_type</th>\n",
       "      <th>booking_changes</th>\n",
       "      <th>deposit_type</th>\n",
       "      <th>days_in_waiting_list</th>\n",
       "      <th>customer_type</th>\n",
       "      <th>required_car_parking_spaces</th>\n",
       "      <th>total_of_special_requests</th>\n",
       "    </tr>\n",
       "  </thead>\n",
       "  <tbody>\n",
       "    <tr>\n",
       "      <th>0</th>\n",
       "      <td>Resort Hotel</td>\n",
       "      <td>0</td>\n",
       "      <td>2</td>\n",
       "      <td>0.0</td>\n",
       "      <td>0</td>\n",
       "      <td>BB</td>\n",
       "      <td>PRT</td>\n",
       "      <td>Direct</td>\n",
       "      <td>Direct</td>\n",
       "      <td>C</td>\n",
       "      <td>3</td>\n",
       "      <td>No Deposit</td>\n",
       "      <td>0</td>\n",
       "      <td>Transient</td>\n",
       "      <td>0</td>\n",
       "      <td>0</td>\n",
       "    </tr>\n",
       "    <tr>\n",
       "      <th>1</th>\n",
       "      <td>Resort Hotel</td>\n",
       "      <td>0</td>\n",
       "      <td>2</td>\n",
       "      <td>0.0</td>\n",
       "      <td>0</td>\n",
       "      <td>BB</td>\n",
       "      <td>PRT</td>\n",
       "      <td>Direct</td>\n",
       "      <td>Direct</td>\n",
       "      <td>C</td>\n",
       "      <td>4</td>\n",
       "      <td>No Deposit</td>\n",
       "      <td>0</td>\n",
       "      <td>Transient</td>\n",
       "      <td>0</td>\n",
       "      <td>0</td>\n",
       "    </tr>\n",
       "    <tr>\n",
       "      <th>2</th>\n",
       "      <td>Resort Hotel</td>\n",
       "      <td>0</td>\n",
       "      <td>1</td>\n",
       "      <td>0.0</td>\n",
       "      <td>0</td>\n",
       "      <td>BB</td>\n",
       "      <td>GBR</td>\n",
       "      <td>Direct</td>\n",
       "      <td>Direct</td>\n",
       "      <td>A</td>\n",
       "      <td>0</td>\n",
       "      <td>No Deposit</td>\n",
       "      <td>0</td>\n",
       "      <td>Transient</td>\n",
       "      <td>0</td>\n",
       "      <td>0</td>\n",
       "    </tr>\n",
       "    <tr>\n",
       "      <th>3</th>\n",
       "      <td>Resort Hotel</td>\n",
       "      <td>0</td>\n",
       "      <td>1</td>\n",
       "      <td>0.0</td>\n",
       "      <td>0</td>\n",
       "      <td>BB</td>\n",
       "      <td>GBR</td>\n",
       "      <td>Corporate</td>\n",
       "      <td>Corporate</td>\n",
       "      <td>A</td>\n",
       "      <td>0</td>\n",
       "      <td>No Deposit</td>\n",
       "      <td>0</td>\n",
       "      <td>Transient</td>\n",
       "      <td>0</td>\n",
       "      <td>0</td>\n",
       "    </tr>\n",
       "    <tr>\n",
       "      <th>4</th>\n",
       "      <td>Resort Hotel</td>\n",
       "      <td>0</td>\n",
       "      <td>2</td>\n",
       "      <td>0.0</td>\n",
       "      <td>0</td>\n",
       "      <td>BB</td>\n",
       "      <td>GBR</td>\n",
       "      <td>TA/TO</td>\n",
       "      <td>TA/TO</td>\n",
       "      <td>A</td>\n",
       "      <td>0</td>\n",
       "      <td>No Deposit</td>\n",
       "      <td>0</td>\n",
       "      <td>Transient</td>\n",
       "      <td>0</td>\n",
       "      <td>1</td>\n",
       "    </tr>\n",
       "    <tr>\n",
       "      <th>...</th>\n",
       "      <td>...</td>\n",
       "      <td>...</td>\n",
       "      <td>...</td>\n",
       "      <td>...</td>\n",
       "      <td>...</td>\n",
       "      <td>...</td>\n",
       "      <td>...</td>\n",
       "      <td>...</td>\n",
       "      <td>...</td>\n",
       "      <td>...</td>\n",
       "      <td>...</td>\n",
       "      <td>...</td>\n",
       "      <td>...</td>\n",
       "      <td>...</td>\n",
       "      <td>...</td>\n",
       "      <td>...</td>\n",
       "    </tr>\n",
       "    <tr>\n",
       "      <th>4993</th>\n",
       "      <td>Resort Hotel</td>\n",
       "      <td>1</td>\n",
       "      <td>2</td>\n",
       "      <td>0.0</td>\n",
       "      <td>0</td>\n",
       "      <td>HB</td>\n",
       "      <td>PRT</td>\n",
       "      <td>Direct</td>\n",
       "      <td>Direct</td>\n",
       "      <td>D</td>\n",
       "      <td>0</td>\n",
       "      <td>Non Refund</td>\n",
       "      <td>0</td>\n",
       "      <td>Transient</td>\n",
       "      <td>0</td>\n",
       "      <td>0</td>\n",
       "    </tr>\n",
       "    <tr>\n",
       "      <th>4994</th>\n",
       "      <td>Resort Hotel</td>\n",
       "      <td>1</td>\n",
       "      <td>2</td>\n",
       "      <td>0.0</td>\n",
       "      <td>0</td>\n",
       "      <td>HB</td>\n",
       "      <td>PRT</td>\n",
       "      <td>Direct</td>\n",
       "      <td>Direct</td>\n",
       "      <td>D</td>\n",
       "      <td>0</td>\n",
       "      <td>Non Refund</td>\n",
       "      <td>0</td>\n",
       "      <td>Transient</td>\n",
       "      <td>0</td>\n",
       "      <td>0</td>\n",
       "    </tr>\n",
       "    <tr>\n",
       "      <th>4995</th>\n",
       "      <td>Resort Hotel</td>\n",
       "      <td>1</td>\n",
       "      <td>2</td>\n",
       "      <td>0.0</td>\n",
       "      <td>0</td>\n",
       "      <td>HB</td>\n",
       "      <td>PRT</td>\n",
       "      <td>Direct</td>\n",
       "      <td>Direct</td>\n",
       "      <td>A</td>\n",
       "      <td>0</td>\n",
       "      <td>Non Refund</td>\n",
       "      <td>0</td>\n",
       "      <td>Transient</td>\n",
       "      <td>0</td>\n",
       "      <td>0</td>\n",
       "    </tr>\n",
       "    <tr>\n",
       "      <th>4996</th>\n",
       "      <td>Resort Hotel</td>\n",
       "      <td>1</td>\n",
       "      <td>2</td>\n",
       "      <td>0.0</td>\n",
       "      <td>0</td>\n",
       "      <td>HB</td>\n",
       "      <td>PRT</td>\n",
       "      <td>Direct</td>\n",
       "      <td>Direct</td>\n",
       "      <td>A</td>\n",
       "      <td>0</td>\n",
       "      <td>Non Refund</td>\n",
       "      <td>0</td>\n",
       "      <td>Transient</td>\n",
       "      <td>0</td>\n",
       "      <td>0</td>\n",
       "    </tr>\n",
       "    <tr>\n",
       "      <th>4997</th>\n",
       "      <td>Resort Hotel</td>\n",
       "      <td>1</td>\n",
       "      <td>2</td>\n",
       "      <td>0.0</td>\n",
       "      <td>0</td>\n",
       "      <td>HB</td>\n",
       "      <td>PRT</td>\n",
       "      <td>Direct</td>\n",
       "      <td>Direct</td>\n",
       "      <td>D</td>\n",
       "      <td>0</td>\n",
       "      <td>Non Refund</td>\n",
       "      <td>0</td>\n",
       "      <td>Transient</td>\n",
       "      <td>0</td>\n",
       "      <td>0</td>\n",
       "    </tr>\n",
       "  </tbody>\n",
       "</table>\n",
       "<p>4998 rows × 16 columns</p>\n",
       "</div>"
      ],
      "text/plain": [
       "             hotel  is_canceled  adults  children  babies meal country  \\\n",
       "0     Resort Hotel            0       2       0.0       0   BB     PRT   \n",
       "1     Resort Hotel            0       2       0.0       0   BB     PRT   \n",
       "2     Resort Hotel            0       1       0.0       0   BB     GBR   \n",
       "3     Resort Hotel            0       1       0.0       0   BB     GBR   \n",
       "4     Resort Hotel            0       2       0.0       0   BB     GBR   \n",
       "...            ...          ...     ...       ...     ...  ...     ...   \n",
       "4993  Resort Hotel            1       2       0.0       0   HB     PRT   \n",
       "4994  Resort Hotel            1       2       0.0       0   HB     PRT   \n",
       "4995  Resort Hotel            1       2       0.0       0   HB     PRT   \n",
       "4996  Resort Hotel            1       2       0.0       0   HB     PRT   \n",
       "4997  Resort Hotel            1       2       0.0       0   HB     PRT   \n",
       "\n",
       "     market_segment distribution_channel reserved_room_type  booking_changes  \\\n",
       "0            Direct               Direct                  C                3   \n",
       "1            Direct               Direct                  C                4   \n",
       "2            Direct               Direct                  A                0   \n",
       "3         Corporate            Corporate                  A                0   \n",
       "4             TA/TO                TA/TO                  A                0   \n",
       "...             ...                  ...                ...              ...   \n",
       "4993         Direct               Direct                  D                0   \n",
       "4994         Direct               Direct                  D                0   \n",
       "4995         Direct               Direct                  A                0   \n",
       "4996         Direct               Direct                  A                0   \n",
       "4997         Direct               Direct                  D                0   \n",
       "\n",
       "     deposit_type  days_in_waiting_list customer_type  \\\n",
       "0      No Deposit                     0     Transient   \n",
       "1      No Deposit                     0     Transient   \n",
       "2      No Deposit                     0     Transient   \n",
       "3      No Deposit                     0     Transient   \n",
       "4      No Deposit                     0     Transient   \n",
       "...           ...                   ...           ...   \n",
       "4993   Non Refund                     0     Transient   \n",
       "4994   Non Refund                     0     Transient   \n",
       "4995   Non Refund                     0     Transient   \n",
       "4996   Non Refund                     0     Transient   \n",
       "4997   Non Refund                     0     Transient   \n",
       "\n",
       "      required_car_parking_spaces  total_of_special_requests  \n",
       "0                               0                          0  \n",
       "1                               0                          0  \n",
       "2                               0                          0  \n",
       "3                               0                          0  \n",
       "4                               0                          1  \n",
       "...                           ...                        ...  \n",
       "4993                            0                          0  \n",
       "4994                            0                          0  \n",
       "4995                            0                          0  \n",
       "4996                            0                          0  \n",
       "4997                            0                          0  \n",
       "\n",
       "[4998 rows x 16 columns]"
      ]
     },
     "execution_count": 13,
     "metadata": {},
     "output_type": "execute_result"
    }
   ],
   "source": [
    "cd_index=hotel[(hotel['distribution_channel']=='Corporate')|(hotel['distribution_channel']=='Direct')|(hotel['distribution_channel']=='TA/TO')].index\n",
    "hotel['market_segment'].loc[cd_index]=hotel['distribution_channel'].loc[cd_index]\n",
    "hotel.loc[cd_index]"
   ]
  },
  {
   "cell_type": "code",
   "execution_count": 14,
   "id": "34040610",
   "metadata": {
    "ExecuteTime": {
     "end_time": "2022-02-07T01:58:37.275700Z",
     "start_time": "2022-02-07T01:58:37.091934Z"
    }
   },
   "outputs": [
    {
     "data": {
      "text/plain": [
       "market_segment  distribution_channel\n",
       "Corporate       Corporate                275\n",
       "Direct          Direct                  1067\n",
       "TA/TO           TA/TO                   3656\n",
       "dtype: int64"
      ]
     },
     "execution_count": 14,
     "metadata": {},
     "output_type": "execute_result"
    }
   ],
   "source": [
    "hotel.pivot_table(index=['market_segment','distribution_channel'],aggfunc='size')"
   ]
  },
  {
   "cell_type": "markdown",
   "id": "f7c8bead",
   "metadata": {},
   "source": [
    "**Delete data when adults, children, and babies equal to 0**  \n",
    "There is another anomaly on data there is no number of person in 4 booking"
   ]
  },
  {
   "cell_type": "code",
   "execution_count": 15,
   "id": "ad73ca7f",
   "metadata": {
    "ExecuteTime": {
     "end_time": "2022-02-07T01:58:37.465218Z",
     "start_time": "2022-02-07T01:58:37.277505Z"
    }
   },
   "outputs": [],
   "source": [
    "delin=hotel[hotel['adults']==0].index\n",
    "hotel=hotel.drop(index=delin).reset_index(drop=True)"
   ]
  },
  {
   "cell_type": "markdown",
   "id": "3afe8128",
   "metadata": {},
   "source": [
    "## Customer Profiling & Behaviour"
   ]
  },
  {
   "cell_type": "code",
   "execution_count": 16,
   "id": "359fcd96",
   "metadata": {
    "ExecuteTime": {
     "end_time": "2022-02-07T01:58:37.716609Z",
     "start_time": "2022-02-07T01:58:37.465218Z"
    }
   },
   "outputs": [
    {
     "data": {
      "text/html": [
       "<div>\n",
       "<style scoped>\n",
       "    .dataframe tbody tr th:only-of-type {\n",
       "        vertical-align: middle;\n",
       "    }\n",
       "\n",
       "    .dataframe tbody tr th {\n",
       "        vertical-align: top;\n",
       "    }\n",
       "\n",
       "    .dataframe thead th {\n",
       "        text-align: right;\n",
       "    }\n",
       "</style>\n",
       "<table border=\"1\" class=\"dataframe\">\n",
       "  <thead>\n",
       "    <tr style=\"text-align: right;\">\n",
       "      <th></th>\n",
       "      <th>hotel</th>\n",
       "      <th>is_canceled</th>\n",
       "      <th>adults</th>\n",
       "      <th>children</th>\n",
       "      <th>babies</th>\n",
       "      <th>meal</th>\n",
       "      <th>country</th>\n",
       "      <th>market_segment</th>\n",
       "      <th>distribution_channel</th>\n",
       "      <th>reserved_room_type</th>\n",
       "      <th>booking_changes</th>\n",
       "      <th>deposit_type</th>\n",
       "      <th>days_in_waiting_list</th>\n",
       "      <th>customer_type</th>\n",
       "      <th>required_car_parking_spaces</th>\n",
       "      <th>total_of_special_requests</th>\n",
       "    </tr>\n",
       "  </thead>\n",
       "  <tbody>\n",
       "    <tr>\n",
       "      <th>0</th>\n",
       "      <td>Resort Hotel</td>\n",
       "      <td>0</td>\n",
       "      <td>2</td>\n",
       "      <td>0.0</td>\n",
       "      <td>0</td>\n",
       "      <td>BB</td>\n",
       "      <td>PRT</td>\n",
       "      <td>Direct</td>\n",
       "      <td>Direct</td>\n",
       "      <td>C</td>\n",
       "      <td>3</td>\n",
       "      <td>No Deposit</td>\n",
       "      <td>0</td>\n",
       "      <td>Transient</td>\n",
       "      <td>0</td>\n",
       "      <td>0</td>\n",
       "    </tr>\n",
       "    <tr>\n",
       "      <th>1</th>\n",
       "      <td>Resort Hotel</td>\n",
       "      <td>0</td>\n",
       "      <td>2</td>\n",
       "      <td>0.0</td>\n",
       "      <td>0</td>\n",
       "      <td>BB</td>\n",
       "      <td>PRT</td>\n",
       "      <td>Direct</td>\n",
       "      <td>Direct</td>\n",
       "      <td>C</td>\n",
       "      <td>4</td>\n",
       "      <td>No Deposit</td>\n",
       "      <td>0</td>\n",
       "      <td>Transient</td>\n",
       "      <td>0</td>\n",
       "      <td>0</td>\n",
       "    </tr>\n",
       "    <tr>\n",
       "      <th>2</th>\n",
       "      <td>Resort Hotel</td>\n",
       "      <td>0</td>\n",
       "      <td>1</td>\n",
       "      <td>0.0</td>\n",
       "      <td>0</td>\n",
       "      <td>BB</td>\n",
       "      <td>GBR</td>\n",
       "      <td>Direct</td>\n",
       "      <td>Direct</td>\n",
       "      <td>A</td>\n",
       "      <td>0</td>\n",
       "      <td>No Deposit</td>\n",
       "      <td>0</td>\n",
       "      <td>Transient</td>\n",
       "      <td>0</td>\n",
       "      <td>0</td>\n",
       "    </tr>\n",
       "    <tr>\n",
       "      <th>3</th>\n",
       "      <td>Resort Hotel</td>\n",
       "      <td>0</td>\n",
       "      <td>1</td>\n",
       "      <td>0.0</td>\n",
       "      <td>0</td>\n",
       "      <td>BB</td>\n",
       "      <td>GBR</td>\n",
       "      <td>Corporate</td>\n",
       "      <td>Corporate</td>\n",
       "      <td>A</td>\n",
       "      <td>0</td>\n",
       "      <td>No Deposit</td>\n",
       "      <td>0</td>\n",
       "      <td>Transient</td>\n",
       "      <td>0</td>\n",
       "      <td>0</td>\n",
       "    </tr>\n",
       "    <tr>\n",
       "      <th>4</th>\n",
       "      <td>Resort Hotel</td>\n",
       "      <td>0</td>\n",
       "      <td>2</td>\n",
       "      <td>0.0</td>\n",
       "      <td>0</td>\n",
       "      <td>BB</td>\n",
       "      <td>GBR</td>\n",
       "      <td>TA/TO</td>\n",
       "      <td>TA/TO</td>\n",
       "      <td>A</td>\n",
       "      <td>0</td>\n",
       "      <td>No Deposit</td>\n",
       "      <td>0</td>\n",
       "      <td>Transient</td>\n",
       "      <td>0</td>\n",
       "      <td>1</td>\n",
       "    </tr>\n",
       "  </tbody>\n",
       "</table>\n",
       "</div>"
      ],
      "text/plain": [
       "          hotel  is_canceled  adults  children  babies meal country  \\\n",
       "0  Resort Hotel            0       2       0.0       0   BB     PRT   \n",
       "1  Resort Hotel            0       2       0.0       0   BB     PRT   \n",
       "2  Resort Hotel            0       1       0.0       0   BB     GBR   \n",
       "3  Resort Hotel            0       1       0.0       0   BB     GBR   \n",
       "4  Resort Hotel            0       2       0.0       0   BB     GBR   \n",
       "\n",
       "  market_segment distribution_channel reserved_room_type  booking_changes  \\\n",
       "0         Direct               Direct                  C                3   \n",
       "1         Direct               Direct                  C                4   \n",
       "2         Direct               Direct                  A                0   \n",
       "3      Corporate            Corporate                  A                0   \n",
       "4          TA/TO                TA/TO                  A                0   \n",
       "\n",
       "  deposit_type  days_in_waiting_list customer_type  \\\n",
       "0   No Deposit                     0     Transient   \n",
       "1   No Deposit                     0     Transient   \n",
       "2   No Deposit                     0     Transient   \n",
       "3   No Deposit                     0     Transient   \n",
       "4   No Deposit                     0     Transient   \n",
       "\n",
       "   required_car_parking_spaces  total_of_special_requests  \n",
       "0                            0                          0  \n",
       "1                            0                          0  \n",
       "2                            0                          0  \n",
       "3                            0                          0  \n",
       "4                            0                          1  "
      ]
     },
     "execution_count": 16,
     "metadata": {},
     "output_type": "execute_result"
    }
   ],
   "source": [
    "hotel.head()"
   ]
  },
  {
   "cell_type": "code",
   "execution_count": 17,
   "id": "d81fd81c",
   "metadata": {
    "ExecuteTime": {
     "end_time": "2022-02-07T01:58:38.340321Z",
     "start_time": "2022-02-07T01:58:37.716609Z"
    }
   },
   "outputs": [
    {
     "name": "stderr",
     "output_type": "stream",
     "text": [
      "<ipython-input-17-5fa9b543d956>:1: FutureWarning: Indexing with multiple keys (implicitly converted to a tuple of keys) will be deprecated, use a list instead.\n",
      "  hotel.groupby('market_segment')['adults','children','babies'].describe()\n"
     ]
    },
    {
     "data": {
      "text/html": [
       "<div>\n",
       "<style scoped>\n",
       "    .dataframe tbody tr th:only-of-type {\n",
       "        vertical-align: middle;\n",
       "    }\n",
       "\n",
       "    .dataframe tbody tr th {\n",
       "        vertical-align: top;\n",
       "    }\n",
       "\n",
       "    .dataframe thead tr th {\n",
       "        text-align: left;\n",
       "    }\n",
       "\n",
       "    .dataframe thead tr:last-of-type th {\n",
       "        text-align: right;\n",
       "    }\n",
       "</style>\n",
       "<table border=\"1\" class=\"dataframe\">\n",
       "  <thead>\n",
       "    <tr>\n",
       "      <th></th>\n",
       "      <th colspan=\"8\" halign=\"left\">adults</th>\n",
       "      <th colspan=\"5\" halign=\"left\">children</th>\n",
       "      <th colspan=\"8\" halign=\"left\">babies</th>\n",
       "    </tr>\n",
       "    <tr>\n",
       "      <th></th>\n",
       "      <th>count</th>\n",
       "      <th>mean</th>\n",
       "      <th>std</th>\n",
       "      <th>min</th>\n",
       "      <th>25%</th>\n",
       "      <th>50%</th>\n",
       "      <th>75%</th>\n",
       "      <th>max</th>\n",
       "      <th>count</th>\n",
       "      <th>mean</th>\n",
       "      <th>...</th>\n",
       "      <th>75%</th>\n",
       "      <th>max</th>\n",
       "      <th>count</th>\n",
       "      <th>mean</th>\n",
       "      <th>std</th>\n",
       "      <th>min</th>\n",
       "      <th>25%</th>\n",
       "      <th>50%</th>\n",
       "      <th>75%</th>\n",
       "      <th>max</th>\n",
       "    </tr>\n",
       "    <tr>\n",
       "      <th>market_segment</th>\n",
       "      <th></th>\n",
       "      <th></th>\n",
       "      <th></th>\n",
       "      <th></th>\n",
       "      <th></th>\n",
       "      <th></th>\n",
       "      <th></th>\n",
       "      <th></th>\n",
       "      <th></th>\n",
       "      <th></th>\n",
       "      <th></th>\n",
       "      <th></th>\n",
       "      <th></th>\n",
       "      <th></th>\n",
       "      <th></th>\n",
       "      <th></th>\n",
       "      <th></th>\n",
       "      <th></th>\n",
       "      <th></th>\n",
       "      <th></th>\n",
       "      <th></th>\n",
       "    </tr>\n",
       "  </thead>\n",
       "  <tbody>\n",
       "    <tr>\n",
       "      <th>Corporate</th>\n",
       "      <td>273.0</td>\n",
       "      <td>1.432234</td>\n",
       "      <td>0.503650</td>\n",
       "      <td>1.0</td>\n",
       "      <td>1.0</td>\n",
       "      <td>1.0</td>\n",
       "      <td>2.0</td>\n",
       "      <td>3.0</td>\n",
       "      <td>273.0</td>\n",
       "      <td>0.047619</td>\n",
       "      <td>...</td>\n",
       "      <td>0.0</td>\n",
       "      <td>2.0</td>\n",
       "      <td>273.0</td>\n",
       "      <td>0.010989</td>\n",
       "      <td>0.104442</td>\n",
       "      <td>0.0</td>\n",
       "      <td>0.0</td>\n",
       "      <td>0.0</td>\n",
       "      <td>0.0</td>\n",
       "      <td>1.0</td>\n",
       "    </tr>\n",
       "    <tr>\n",
       "      <th>Direct</th>\n",
       "      <td>1067.0</td>\n",
       "      <td>2.147142</td>\n",
       "      <td>2.862696</td>\n",
       "      <td>1.0</td>\n",
       "      <td>2.0</td>\n",
       "      <td>2.0</td>\n",
       "      <td>2.0</td>\n",
       "      <td>55.0</td>\n",
       "      <td>1067.0</td>\n",
       "      <td>0.130272</td>\n",
       "      <td>...</td>\n",
       "      <td>0.0</td>\n",
       "      <td>2.0</td>\n",
       "      <td>1067.0</td>\n",
       "      <td>0.014995</td>\n",
       "      <td>0.129075</td>\n",
       "      <td>0.0</td>\n",
       "      <td>0.0</td>\n",
       "      <td>0.0</td>\n",
       "      <td>0.0</td>\n",
       "      <td>2.0</td>\n",
       "    </tr>\n",
       "    <tr>\n",
       "      <th>TA/TO</th>\n",
       "      <td>3653.0</td>\n",
       "      <td>1.961675</td>\n",
       "      <td>0.953841</td>\n",
       "      <td>1.0</td>\n",
       "      <td>2.0</td>\n",
       "      <td>2.0</td>\n",
       "      <td>2.0</td>\n",
       "      <td>26.0</td>\n",
       "      <td>3653.0</td>\n",
       "      <td>0.116616</td>\n",
       "      <td>...</td>\n",
       "      <td>0.0</td>\n",
       "      <td>10.0</td>\n",
       "      <td>3653.0</td>\n",
       "      <td>0.015056</td>\n",
       "      <td>0.121793</td>\n",
       "      <td>0.0</td>\n",
       "      <td>0.0</td>\n",
       "      <td>0.0</td>\n",
       "      <td>0.0</td>\n",
       "      <td>1.0</td>\n",
       "    </tr>\n",
       "  </tbody>\n",
       "</table>\n",
       "<p>3 rows × 24 columns</p>\n",
       "</div>"
      ],
      "text/plain": [
       "                adults                                               children  \\\n",
       "                 count      mean       std  min  25%  50%  75%   max    count   \n",
       "market_segment                                                                  \n",
       "Corporate        273.0  1.432234  0.503650  1.0  1.0  1.0  2.0   3.0    273.0   \n",
       "Direct          1067.0  2.147142  2.862696  1.0  2.0  2.0  2.0  55.0   1067.0   \n",
       "TA/TO           3653.0  1.961675  0.953841  1.0  2.0  2.0  2.0  26.0   3653.0   \n",
       "\n",
       "                          ...             babies                           \\\n",
       "                    mean  ...  75%   max   count      mean       std  min   \n",
       "market_segment            ...                                               \n",
       "Corporate       0.047619  ...  0.0   2.0   273.0  0.010989  0.104442  0.0   \n",
       "Direct          0.130272  ...  0.0   2.0  1067.0  0.014995  0.129075  0.0   \n",
       "TA/TO           0.116616  ...  0.0  10.0  3653.0  0.015056  0.121793  0.0   \n",
       "\n",
       "                                    \n",
       "                25%  50%  75%  max  \n",
       "market_segment                      \n",
       "Corporate       0.0  0.0  0.0  1.0  \n",
       "Direct          0.0  0.0  0.0  2.0  \n",
       "TA/TO           0.0  0.0  0.0  1.0  \n",
       "\n",
       "[3 rows x 24 columns]"
      ]
     },
     "execution_count": 17,
     "metadata": {},
     "output_type": "execute_result"
    }
   ],
   "source": [
    "hotel.groupby('market_segment')['adults','children','babies'].describe()"
   ]
  },
  {
   "cell_type": "code",
   "execution_count": 18,
   "id": "a210484a",
   "metadata": {
    "ExecuteTime": {
     "end_time": "2022-02-07T01:58:38.555642Z",
     "start_time": "2022-02-07T01:58:38.340667Z"
    }
   },
   "outputs": [
    {
     "data": {
      "text/plain": [
       "country\n",
       "PRT    3170\n",
       "ESP     549\n",
       "GBR     505\n",
       "IRL     172\n",
       "FRA     113\n",
       "Name: country, dtype: int64"
      ]
     },
     "execution_count": 18,
     "metadata": {},
     "output_type": "execute_result"
    }
   ],
   "source": [
    "hotel.groupby('country')['country'].count().sort_values(ascending=False).head()"
   ]
  },
  {
   "cell_type": "code",
   "execution_count": 19,
   "id": "5ff8574d",
   "metadata": {
    "ExecuteTime": {
     "end_time": "2022-02-07T01:58:38.744271Z",
     "start_time": "2022-02-07T01:58:38.555642Z"
    }
   },
   "outputs": [
    {
     "data": {
      "text/plain": [
       "is_canceled\n",
       "0    0.539956\n",
       "1    0.460044\n",
       "Name: is_canceled, dtype: float64"
      ]
     },
     "execution_count": 19,
     "metadata": {},
     "output_type": "execute_result"
    }
   ],
   "source": [
    "hotel.groupby('is_canceled')['is_canceled'].count()/hotel['is_canceled'].count()"
   ]
  },
  {
   "cell_type": "code",
   "execution_count": 20,
   "id": "94234350",
   "metadata": {
    "ExecuteTime": {
     "end_time": "2022-02-07T01:58:38.967944Z",
     "start_time": "2022-02-07T01:58:38.745766Z"
    }
   },
   "outputs": [],
   "source": [
    "cross1=pd.crosstab(hotel['booking_changes'],hotel['is_canceled'],normalize='index').round(2)\n",
    "cross2=pd.crosstab(hotel['market_segment'],hotel['is_canceled']).round(2)\n",
    "cross3=pd.crosstab(hotel['deposit_type'],hotel['is_canceled'],normalize=True).round(2)\n",
    "cross4=pd.crosstab(hotel['days_in_waiting_list'],hotel['is_canceled'],normalize=True).round(2)\n",
    "cross5=pd.crosstab(hotel['reserved_room_type'],hotel['is_canceled'],normalize='index').round(2)\n",
    "cross6=pd.crosstab(hotel['meal'],hotel['is_canceled'],normalize='index').round(2)"
   ]
  },
  {
   "cell_type": "code",
   "execution_count": 21,
   "id": "4941de0e",
   "metadata": {
    "ExecuteTime": {
     "end_time": "2022-02-07T01:58:39.308986Z",
     "start_time": "2022-02-07T01:58:38.969138Z"
    }
   },
   "outputs": [
    {
     "name": "stdout",
     "output_type": "stream",
     "text": [
      "is_canceled         0     1\n",
      "booking_changes            \n",
      "0                0.50  0.50\n",
      "1                0.74  0.26\n",
      "2                0.89  0.11\n",
      "3                0.87  0.13\n",
      "4                0.89  0.11\n",
      "5                1.00  0.00\n",
      "6                1.00  0.00\n",
      "17               1.00  0.00\n"
     ]
    },
    {
     "data": {
      "text/plain": [
       "<AxesSubplot:xlabel='booking_changes'>"
      ]
     },
     "execution_count": 21,
     "metadata": {},
     "output_type": "execute_result"
    },
    {
     "data": {
      "image/png": "[encoded data removed]",
      "text/plain": [
       "<Figure size 432x288 with 1 Axes>"
      ]
     },
     "metadata": {
      "needs_background": "light"
     },
     "output_type": "display_data"
    }
   ],
   "source": [
    "print(cross1)\n",
    "cross1.plot.bar()"
   ]
  },
  {
   "cell_type": "code",
   "execution_count": 22,
   "id": "f701fc35",
   "metadata": {
    "ExecuteTime": {
     "end_time": "2022-02-07T01:58:39.746145Z",
     "start_time": "2022-02-07T01:58:39.313113Z"
    }
   },
   "outputs": [
    {
     "name": "stdout",
     "output_type": "stream",
     "text": [
      "is_canceled        0     1\n",
      "market_segment            \n",
      "Corporate        162   111\n",
      "Direct           613   454\n",
      "TA/TO           1921  1732\n"
     ]
    },
    {
     "data": {
      "text/plain": [
       "<AxesSubplot:xlabel='market_segment'>"
      ]
     },
     "execution_count": 22,
     "metadata": {},
     "output_type": "execute_result"
    },
    {
     "data": {
      "image/png": "[encoded data removed]",
      "text/plain": [
       "<Figure size 432x288 with 1 Axes>"
      ]
     },
     "metadata": {
      "needs_background": "light"
     },
     "output_type": "display_data"
    }
   ],
   "source": [
    "print(cross2)\n",
    "cross2.plot.bar()"
   ]
  },
  {
   "cell_type": "code",
   "execution_count": 23,
   "id": "aca57c32",
   "metadata": {
    "ExecuteTime": {
     "end_time": "2022-02-07T01:58:40.109276Z",
     "start_time": "2022-02-07T01:58:39.746646Z"
    }
   },
   "outputs": [
    {
     "name": "stdout",
     "output_type": "stream",
     "text": [
      "is_canceled      0     1\n",
      "deposit_type            \n",
      "No Deposit    0.52  0.37\n",
      "Non Refund    0.01  0.09\n",
      "Refundable    0.01  0.00\n"
     ]
    },
    {
     "data": {
      "text/plain": [
       "<AxesSubplot:xlabel='deposit_type'>"
      ]
     },
     "execution_count": 23,
     "metadata": {},
     "output_type": "execute_result"
    },
    {
     "data": {
      "image/png": "[encoded data removed]",
      "text/plain": [
       "<Figure size 432x288 with 1 Axes>"
      ]
     },
     "metadata": {
      "needs_background": "light"
     },
     "output_type": "display_data"
    }
   ],
   "source": [
    "print(cross3)\n",
    "cross3.plot.bar()"
   ]
  },
  {
   "cell_type": "code",
   "execution_count": 24,
   "id": "cbb7f787",
   "metadata": {
    "ExecuteTime": {
     "end_time": "2022-02-07T01:58:40.535738Z",
     "start_time": "2022-02-07T01:58:40.109276Z"
    }
   },
   "outputs": [
    {
     "name": "stdout",
     "output_type": "stream",
     "text": [
      "is_canceled              0     1\n",
      "days_in_waiting_list            \n",
      "0                     0.52  0.46\n",
      "47                    0.00  0.00\n",
      "50                    0.00  0.00\n",
      "65                    0.00  0.00\n",
      "122                   0.01  0.00\n"
     ]
    },
    {
     "data": {
      "text/plain": [
       "<AxesSubplot:xlabel='days_in_waiting_list'>"
      ]
     },
     "execution_count": 24,
     "metadata": {},
     "output_type": "execute_result"
    },
    {
     "data": {
      "image/png": "[encoded data removed]",
      "text/plain": [
       "<Figure size 432x288 with 1 Axes>"
      ]
     },
     "metadata": {
      "needs_background": "light"
     },
     "output_type": "display_data"
    }
   ],
   "source": [
    "print(cross4)\n",
    "cross4.plot.bar()"
   ]
  },
  {
   "cell_type": "code",
   "execution_count": 25,
   "id": "59346cd6",
   "metadata": {
    "ExecuteTime": {
     "end_time": "2022-02-07T01:58:41.088638Z",
     "start_time": "2022-02-07T01:58:40.539072Z"
    }
   },
   "outputs": [
    {
     "name": "stdout",
     "output_type": "stream",
     "text": [
      "is_canceled            0     1\n",
      "reserved_room_type            \n",
      "A                   0.52  0.48\n",
      "C                   0.63  0.37\n",
      "D                   0.59  0.41\n",
      "E                   0.57  0.43\n",
      "F                   0.67  0.33\n",
      "G                   0.47  0.53\n",
      "H                   0.44  0.56\n",
      "L                   0.67  0.33\n"
     ]
    },
    {
     "data": {
      "text/plain": [
       "<AxesSubplot:xlabel='reserved_room_type'>"
      ]
     },
     "execution_count": 25,
     "metadata": {},
     "output_type": "execute_result"
    },
    {
     "data": {
      "image/png": "[encoded data removed]",
      "text/plain": [
       "<Figure size 432x288 with 1 Axes>"
      ]
     },
     "metadata": {
      "needs_background": "light"
     },
     "output_type": "display_data"
    }
   ],
   "source": [
    "print(cross5)\n",
    "cross5.plot.bar()"
   ]
  },
  {
   "cell_type": "code",
   "execution_count": 26,
   "id": "a4b89c96",
   "metadata": {
    "ExecuteTime": {
     "end_time": "2022-02-07T01:58:41.439175Z",
     "start_time": "2022-02-07T01:58:41.091736Z"
    }
   },
   "outputs": [
    {
     "name": "stdout",
     "output_type": "stream",
     "text": [
      "is_canceled     0     1\n",
      "meal                   \n",
      "BB           0.56  0.44\n",
      "FB           0.33  0.67\n",
      "HB           0.51  0.49\n",
      "SC           1.00  0.00\n",
      "Undefined    0.74  0.26\n"
     ]
    },
    {
     "data": {
      "text/plain": [
       "<AxesSubplot:xlabel='meal'>"
      ]
     },
     "execution_count": 26,
     "metadata": {},
     "output_type": "execute_result"
    },
    {
     "data": {
      "image/png": "[encoded data removed]",
      "text/plain": [
       "<Figure size 432x288 with 1 Axes>"
      ]
     },
     "metadata": {
      "needs_background": "light"
     },
     "output_type": "display_data"
    }
   ],
   "source": [
    "print(cross6)\n",
    "cross6.plot.bar()"
   ]
  },
  {
   "cell_type": "markdown",
   "id": "d8e4fbf0",
   "metadata": {},
   "source": [
    "Insight to hotel Management:\n",
    "* In 1 rooms there is minimal 1 adults, most of the time the customer doesn't bring any children or babies.\n",
    "* 46% reservation was cancel \n",
    "* Higher number of change, lower cancelation\n",
    "* days_in_waiting_list doesn't have big impact to cancel (just 2/93 customer who cancel)"
   ]
  },
  {
   "cell_type": "markdown",
   "id": "1f054dea",
   "metadata": {},
   "source": [
    "# Modeling"
   ]
  },
  {
   "cell_type": "markdown",
   "id": "4832268e",
   "metadata": {},
   "source": [
    "Dalam konteks bisnis perhotelan, apabila pengunjung diasumsikan tidak cancel booking maka pihak hotel akan menyiapkan beberapa hal untuk menyambut kedatangan mereka, di antaranya:  \n",
    ">* Menghubungi pengunjung terkait kapan perkiraan datang ke hotel,\n",
    ">* Membersihkan, merapikan, dan menyiapkan kamar sesuai pesanan pengunjung,\n",
    ">* Menyiapkan makanan dan minuman untuk menyambut kedatangan pengunjung,\n",
    ">* Menolak pengunjung lain yang memesan kamar yang telah dipesan (booked room), dan\n",
    ">* Memberi layanan penjemputan di bandara/stasiun/terminal apabila diperlukan. "
   ]
  },
  {
   "cell_type": "markdown",
   "id": "0f3155e8",
   "metadata": {},
   "source": [
    "##  Pilih jenis kesalahan yang paling berpengaruh pada kerugian finansial perusahaan dan jelaskan alasan pilihan Anda! "
   ]
  },
  {
   "cell_type": "markdown",
   "id": "129b8910",
   "metadata": {},
   "source": [
    "We will loss, when we predict the customer is not cancel but they cancel the booking. Because we get loss from our preparation to welcoming the customer and also suffer opportunity loss."
   ]
  },
  {
   "cell_type": "markdown",
   "id": "5e5b9263",
   "metadata": {},
   "source": [
    "## Pilih evaluation metric yang bisa menekan jenis kesalahan yang Anda pilih! Berikan alasan!"
   ]
  },
  {
   "cell_type": "markdown",
   "id": "7616c6eb",
   "metadata": {},
   "source": [
    "We need to reduce false negative, we could use Recall. We try to maximize recall rate because higher recall rate means lower false negative."
   ]
  },
  {
   "cell_type": "markdown",
   "id": "a7c549f6",
   "metadata": {},
   "source": [
    "## Pilihlah setidaknya 3 model machine learning yang Anda pahami untuk mendapatkan benchmark model ML untuk memprediksi apakah user akan cancel booking atau tidak!\n",
    "Jelaskan secara singkat cara kerja model ML yang Anda gunakan!"
   ]
  },
  {
   "cell_type": "markdown",
   "id": "c46f383c",
   "metadata": {},
   "source": [
    "### Preprocessing"
   ]
  },
  {
   "cell_type": "code",
   "execution_count": 27,
   "id": "acaa0074",
   "metadata": {
    "ExecuteTime": {
     "end_time": "2022-02-07T01:58:41.482857Z",
     "start_time": "2022-02-07T01:58:41.439674Z"
    }
   },
   "outputs": [
    {
     "data": {
      "text/html": [
       "<div>\n",
       "<style scoped>\n",
       "    .dataframe tbody tr th:only-of-type {\n",
       "        vertical-align: middle;\n",
       "    }\n",
       "\n",
       "    .dataframe tbody tr th {\n",
       "        vertical-align: top;\n",
       "    }\n",
       "\n",
       "    .dataframe thead th {\n",
       "        text-align: right;\n",
       "    }\n",
       "</style>\n",
       "<table border=\"1\" class=\"dataframe\">\n",
       "  <thead>\n",
       "    <tr style=\"text-align: right;\">\n",
       "      <th></th>\n",
       "      <th>is_canceled</th>\n",
       "      <th>adults</th>\n",
       "      <th>children</th>\n",
       "      <th>babies</th>\n",
       "      <th>meal</th>\n",
       "      <th>country</th>\n",
       "      <th>market_segment</th>\n",
       "      <th>reserved_room_type</th>\n",
       "      <th>booking_changes</th>\n",
       "      <th>deposit_type</th>\n",
       "      <th>days_in_waiting_list</th>\n",
       "      <th>customer_type</th>\n",
       "      <th>required_car_parking_spaces</th>\n",
       "      <th>total_of_special_requests</th>\n",
       "    </tr>\n",
       "  </thead>\n",
       "  <tbody>\n",
       "    <tr>\n",
       "      <th>0</th>\n",
       "      <td>0</td>\n",
       "      <td>2</td>\n",
       "      <td>0.0</td>\n",
       "      <td>0</td>\n",
       "      <td>BB</td>\n",
       "      <td>PRT</td>\n",
       "      <td>Direct</td>\n",
       "      <td>C</td>\n",
       "      <td>3</td>\n",
       "      <td>No Deposit</td>\n",
       "      <td>0</td>\n",
       "      <td>Transient</td>\n",
       "      <td>0</td>\n",
       "      <td>0</td>\n",
       "    </tr>\n",
       "    <tr>\n",
       "      <th>1</th>\n",
       "      <td>0</td>\n",
       "      <td>2</td>\n",
       "      <td>0.0</td>\n",
       "      <td>0</td>\n",
       "      <td>BB</td>\n",
       "      <td>PRT</td>\n",
       "      <td>Direct</td>\n",
       "      <td>C</td>\n",
       "      <td>4</td>\n",
       "      <td>No Deposit</td>\n",
       "      <td>0</td>\n",
       "      <td>Transient</td>\n",
       "      <td>0</td>\n",
       "      <td>0</td>\n",
       "    </tr>\n",
       "    <tr>\n",
       "      <th>2</th>\n",
       "      <td>0</td>\n",
       "      <td>1</td>\n",
       "      <td>0.0</td>\n",
       "      <td>0</td>\n",
       "      <td>BB</td>\n",
       "      <td>GBR</td>\n",
       "      <td>Direct</td>\n",
       "      <td>A</td>\n",
       "      <td>0</td>\n",
       "      <td>No Deposit</td>\n",
       "      <td>0</td>\n",
       "      <td>Transient</td>\n",
       "      <td>0</td>\n",
       "      <td>0</td>\n",
       "    </tr>\n",
       "    <tr>\n",
       "      <th>3</th>\n",
       "      <td>0</td>\n",
       "      <td>1</td>\n",
       "      <td>0.0</td>\n",
       "      <td>0</td>\n",
       "      <td>BB</td>\n",
       "      <td>GBR</td>\n",
       "      <td>Corporate</td>\n",
       "      <td>A</td>\n",
       "      <td>0</td>\n",
       "      <td>No Deposit</td>\n",
       "      <td>0</td>\n",
       "      <td>Transient</td>\n",
       "      <td>0</td>\n",
       "      <td>0</td>\n",
       "    </tr>\n",
       "    <tr>\n",
       "      <th>4</th>\n",
       "      <td>0</td>\n",
       "      <td>2</td>\n",
       "      <td>0.0</td>\n",
       "      <td>0</td>\n",
       "      <td>BB</td>\n",
       "      <td>GBR</td>\n",
       "      <td>TA/TO</td>\n",
       "      <td>A</td>\n",
       "      <td>0</td>\n",
       "      <td>No Deposit</td>\n",
       "      <td>0</td>\n",
       "      <td>Transient</td>\n",
       "      <td>0</td>\n",
       "      <td>1</td>\n",
       "    </tr>\n",
       "  </tbody>\n",
       "</table>\n",
       "</div>"
      ],
      "text/plain": [
       "   is_canceled  adults  children  babies meal country market_segment  \\\n",
       "0            0       2       0.0       0   BB     PRT         Direct   \n",
       "1            0       2       0.0       0   BB     PRT         Direct   \n",
       "2            0       1       0.0       0   BB     GBR         Direct   \n",
       "3            0       1       0.0       0   BB     GBR      Corporate   \n",
       "4            0       2       0.0       0   BB     GBR          TA/TO   \n",
       "\n",
       "  reserved_room_type  booking_changes deposit_type  days_in_waiting_list  \\\n",
       "0                  C                3   No Deposit                     0   \n",
       "1                  C                4   No Deposit                     0   \n",
       "2                  A                0   No Deposit                     0   \n",
       "3                  A                0   No Deposit                     0   \n",
       "4                  A                0   No Deposit                     0   \n",
       "\n",
       "  customer_type  required_car_parking_spaces  total_of_special_requests  \n",
       "0     Transient                            0                          0  \n",
       "1     Transient                            0                          0  \n",
       "2     Transient                            0                          0  \n",
       "3     Transient                            0                          0  \n",
       "4     Transient                            0                          1  "
      ]
     },
     "execution_count": 27,
     "metadata": {},
     "output_type": "execute_result"
    }
   ],
   "source": [
    "hotel1=hotel.drop(columns=['hotel','distribution_channel'])\n",
    "hotel1.head()"
   ]
  },
  {
   "cell_type": "code",
   "execution_count": 28,
   "id": "d2a28aed",
   "metadata": {
    "ExecuteTime": {
     "end_time": "2022-02-07T01:58:41.699405Z",
     "start_time": "2022-02-07T01:58:41.485544Z"
    }
   },
   "outputs": [
    {
     "data": {
      "text/plain": [
       "Index(['meal', 'country', 'market_segment', 'reserved_room_type',\n",
       "       'deposit_type', 'customer_type'],\n",
       "      dtype='object')"
      ]
     },
     "execution_count": 28,
     "metadata": {},
     "output_type": "execute_result"
    }
   ],
   "source": [
    "cat_features=hotel1.columns[hotel1.dtypes=='object'] #kolom-kolom dengan tipe data string/categorical\n",
    "cat_features"
   ]
  },
  {
   "cell_type": "code",
   "execution_count": 29,
   "id": "e0f4dde7",
   "metadata": {
    "ExecuteTime": {
     "end_time": "2022-02-07T01:58:41.944480Z",
     "start_time": "2022-02-07T01:58:41.699405Z"
    }
   },
   "outputs": [
    {
     "data": {
      "text/html": [
       "<div>\n",
       "<style scoped>\n",
       "    .dataframe tbody tr th:only-of-type {\n",
       "        vertical-align: middle;\n",
       "    }\n",
       "\n",
       "    .dataframe tbody tr th {\n",
       "        vertical-align: top;\n",
       "    }\n",
       "\n",
       "    .dataframe thead th {\n",
       "        text-align: right;\n",
       "    }\n",
       "</style>\n",
       "<table border=\"1\" class=\"dataframe\">\n",
       "  <thead>\n",
       "    <tr style=\"text-align: right;\">\n",
       "      <th></th>\n",
       "      <th>meal</th>\n",
       "      <th>country</th>\n",
       "      <th>market_segment</th>\n",
       "      <th>reserved_room_type</th>\n",
       "      <th>deposit_type</th>\n",
       "      <th>customer_type</th>\n",
       "    </tr>\n",
       "  </thead>\n",
       "  <tbody>\n",
       "    <tr>\n",
       "      <th>count</th>\n",
       "      <td>4993</td>\n",
       "      <td>4993</td>\n",
       "      <td>4993</td>\n",
       "      <td>4993</td>\n",
       "      <td>4993</td>\n",
       "      <td>4993</td>\n",
       "    </tr>\n",
       "    <tr>\n",
       "      <th>unique</th>\n",
       "      <td>5</td>\n",
       "      <td>56</td>\n",
       "      <td>3</td>\n",
       "      <td>8</td>\n",
       "      <td>3</td>\n",
       "      <td>4</td>\n",
       "    </tr>\n",
       "    <tr>\n",
       "      <th>top</th>\n",
       "      <td>BB</td>\n",
       "      <td>PRT</td>\n",
       "      <td>TA/TO</td>\n",
       "      <td>A</td>\n",
       "      <td>No Deposit</td>\n",
       "      <td>Transient</td>\n",
       "    </tr>\n",
       "    <tr>\n",
       "      <th>freq</th>\n",
       "      <td>3417</td>\n",
       "      <td>3170</td>\n",
       "      <td>3653</td>\n",
       "      <td>3161</td>\n",
       "      <td>4454</td>\n",
       "      <td>3696</td>\n",
       "    </tr>\n",
       "  </tbody>\n",
       "</table>\n",
       "</div>"
      ],
      "text/plain": [
       "        meal country market_segment reserved_room_type deposit_type  \\\n",
       "count   4993    4993           4993               4993         4993   \n",
       "unique     5      56              3                  8            3   \n",
       "top       BB     PRT          TA/TO                  A   No Deposit   \n",
       "freq    3417    3170           3653               3161         4454   \n",
       "\n",
       "       customer_type  \n",
       "count           4993  \n",
       "unique             4  \n",
       "top        Transient  \n",
       "freq            3696  "
      ]
     },
     "execution_count": 29,
     "metadata": {},
     "output_type": "execute_result"
    }
   ],
   "source": [
    "hotel[cat_features].describe()"
   ]
  },
  {
   "cell_type": "markdown",
   "id": "a03127d8",
   "metadata": {
    "ExecuteTime": {
     "end_time": "2022-02-06T16:53:38.736324Z",
     "start_time": "2022-02-06T16:53:38.562608Z"
    }
   },
   "source": [
    "preprocessing:\n",
    "* one hot encoding: market_segment,deposit_type,customer_type (data nominal dengan jumlah kategori tidak terlalu banyak)\n",
    "* binary encoding: meal, country, deposit_type (data nominal dengan jumlah kategori relativ banyak)"
   ]
  },
  {
   "cell_type": "code",
   "execution_count": 30,
   "id": "6a6697b6",
   "metadata": {
    "ExecuteTime": {
     "end_time": "2022-02-07T01:58:42.314115Z",
     "start_time": "2022-02-07T01:58:41.944480Z"
    }
   },
   "outputs": [],
   "source": [
    "transformer=ColumnTransformer([\n",
    "    ('one hot', OneHotEncoder(drop='first'),['market_segment', 'deposit_type']),\n",
    "    ('binary', ce.BinaryEncoder(),['meal', 'country', 'reserved_room_type', 'customer_type']),\n",
    "], remainder='passthrough')"
   ]
  },
  {
   "cell_type": "markdown",
   "id": "3d4dba3d",
   "metadata": {},
   "source": [
    "### Splitting Data"
   ]
  },
  {
   "cell_type": "code",
   "execution_count": 31,
   "id": "1e96dd37",
   "metadata": {
    "ExecuteTime": {
     "end_time": "2022-02-07T01:58:42.640256Z",
     "start_time": "2022-02-07T01:58:42.314115Z"
    }
   },
   "outputs": [],
   "source": [
    "x=hotel1.drop(columns=['is_canceled'])\n",
    "y=hotel1['is_canceled']"
   ]
  },
  {
   "cell_type": "code",
   "execution_count": 32,
   "id": "e5037a49",
   "metadata": {
    "ExecuteTime": {
     "end_time": "2022-02-07T01:58:42.900182Z",
     "start_time": "2022-02-07T01:58:42.644505Z"
    }
   },
   "outputs": [],
   "source": [
    "x_train, x_test, y_train, y_test=train_test_split(x,y,\n",
    "                                                 stratify=y,\n",
    "                                                 random_state=2020)"
   ]
  },
  {
   "cell_type": "markdown",
   "id": "17d7f795",
   "metadata": {},
   "source": [
    "### Data Transformation"
   ]
  },
  {
   "cell_type": "code",
   "execution_count": 33,
   "id": "905d95d1",
   "metadata": {
    "ExecuteTime": {
     "end_time": "2022-02-07T01:58:43.346199Z",
     "start_time": "2022-02-07T01:58:42.900182Z"
    }
   },
   "outputs": [],
   "source": [
    "x_train_preprocessed=pd.DataFrame(transformer.fit_transform(x_train))\n",
    "x_test_preprocessed=pd.DataFrame(transformer.transform(x_test))"
   ]
  },
  {
   "cell_type": "code",
   "execution_count": 34,
   "id": "237d5afb",
   "metadata": {
    "ExecuteTime": {
     "end_time": "2022-02-07T01:58:43.512445Z",
     "start_time": "2022-02-07T01:58:43.346949Z"
    }
   },
   "outputs": [
    {
     "data": {
      "text/plain": [
       "array(['market_segment_Direct', 'market_segment_TA/TO',\n",
       "       'deposit_type_Non Refund', 'deposit_type_Refundable'], dtype=object)"
      ]
     },
     "execution_count": 34,
     "metadata": {},
     "output_type": "execute_result"
    }
   ],
   "source": [
    "transformer.transformers_[0][1].get_feature_names_out()"
   ]
  },
  {
   "cell_type": "code",
   "execution_count": 35,
   "id": "55549c79",
   "metadata": {
    "ExecuteTime": {
     "end_time": "2022-02-07T01:58:43.731952Z",
     "start_time": "2022-02-07T01:58:43.512445Z"
    }
   },
   "outputs": [
    {
     "data": {
      "text/plain": [
       "['meal_0',\n",
       " 'meal_1',\n",
       " 'meal_2',\n",
       " 'country_0',\n",
       " 'country_1',\n",
       " 'country_2',\n",
       " 'country_3',\n",
       " 'country_4',\n",
       " 'country_5',\n",
       " 'reserved_room_type_0',\n",
       " 'reserved_room_type_1',\n",
       " 'reserved_room_type_2',\n",
       " 'reserved_room_type_3',\n",
       " 'customer_type_0',\n",
       " 'customer_type_1',\n",
       " 'customer_type_2']"
      ]
     },
     "execution_count": 35,
     "metadata": {},
     "output_type": "execute_result"
    }
   ],
   "source": [
    "transformer.transformers_[1][1].get_feature_names()"
   ]
  },
  {
   "cell_type": "code",
   "execution_count": 36,
   "id": "3e45d706",
   "metadata": {
    "ExecuteTime": {
     "end_time": "2022-02-07T01:58:43.944469Z",
     "start_time": "2022-02-07T01:58:43.733665Z"
    }
   },
   "outputs": [
    {
     "data": {
      "text/plain": [
       "Index(['adults', 'children', 'babies', 'booking_changes',\n",
       "       'days_in_waiting_list', 'required_car_parking_spaces',\n",
       "       'total_of_special_requests'],\n",
       "      dtype='object')"
      ]
     },
     "execution_count": 36,
     "metadata": {},
     "output_type": "execute_result"
    }
   ],
   "source": [
    "x.columns[x.dtypes!=object]"
   ]
  },
  {
   "cell_type": "code",
   "execution_count": 37,
   "id": "519f9bbe",
   "metadata": {
    "ExecuteTime": {
     "end_time": "2022-02-07T01:58:44.288195Z",
     "start_time": "2022-02-07T01:58:43.944469Z"
    }
   },
   "outputs": [
    {
     "data": {
      "text/plain": [
       "['market_segment_Direct',\n",
       " 'market_segment_TA/TO',\n",
       " 'deposit_type_Non Refund',\n",
       " 'deposit_type_Refundable',\n",
       " 'meal_0',\n",
       " 'meal_1',\n",
       " 'meal_2',\n",
       " 'country_0',\n",
       " 'country_1',\n",
       " 'country_2',\n",
       " 'country_3',\n",
       " 'country_4',\n",
       " 'country_5',\n",
       " 'reserved_room_type_0',\n",
       " 'reserved_room_type_1',\n",
       " 'reserved_room_type_2',\n",
       " 'reserved_room_type_3',\n",
       " 'customer_type_0',\n",
       " 'customer_type_1',\n",
       " 'customer_type_2',\n",
       " 'adults',\n",
       " 'children',\n",
       " 'babies',\n",
       " 'booking_changes',\n",
       " 'days_in_waiting_list',\n",
       " 'required_car_parking_spaces',\n",
       " 'total_of_special_requests']"
      ]
     },
     "execution_count": 37,
     "metadata": {},
     "output_type": "execute_result"
    }
   ],
   "source": [
    "features=list(transformer.transformers_[0][1].get_feature_names_out())+transformer.transformers_[1][1].get_feature_names()+list(x.columns[x.dtypes!=object])\n",
    "features"
   ]
  },
  {
   "cell_type": "code",
   "execution_count": 38,
   "id": "3c10e76c",
   "metadata": {
    "ExecuteTime": {
     "end_time": "2022-02-07T01:58:44.420539Z",
     "start_time": "2022-02-07T01:58:44.289477Z"
    }
   },
   "outputs": [],
   "source": [
    "x_train_preprocessed.columns=features\n",
    "x_test_preprocessed.columns=features"
   ]
  },
  {
   "cell_type": "code",
   "execution_count": 39,
   "id": "84c44583",
   "metadata": {
    "ExecuteTime": {
     "end_time": "2022-02-07T01:58:44.692702Z",
     "start_time": "2022-02-07T01:58:44.423539Z"
    }
   },
   "outputs": [
    {
     "data": {
      "text/html": [
       "<div>\n",
       "<style scoped>\n",
       "    .dataframe tbody tr th:only-of-type {\n",
       "        vertical-align: middle;\n",
       "    }\n",
       "\n",
       "    .dataframe tbody tr th {\n",
       "        vertical-align: top;\n",
       "    }\n",
       "\n",
       "    .dataframe thead th {\n",
       "        text-align: right;\n",
       "    }\n",
       "</style>\n",
       "<table border=\"1\" class=\"dataframe\">\n",
       "  <thead>\n",
       "    <tr style=\"text-align: right;\">\n",
       "      <th></th>\n",
       "      <th>market_segment_Direct</th>\n",
       "      <th>market_segment_TA/TO</th>\n",
       "      <th>deposit_type_Non Refund</th>\n",
       "      <th>deposit_type_Refundable</th>\n",
       "      <th>meal_0</th>\n",
       "      <th>meal_1</th>\n",
       "      <th>meal_2</th>\n",
       "      <th>country_0</th>\n",
       "      <th>country_1</th>\n",
       "      <th>country_2</th>\n",
       "      <th>...</th>\n",
       "      <th>customer_type_0</th>\n",
       "      <th>customer_type_1</th>\n",
       "      <th>customer_type_2</th>\n",
       "      <th>adults</th>\n",
       "      <th>children</th>\n",
       "      <th>babies</th>\n",
       "      <th>booking_changes</th>\n",
       "      <th>days_in_waiting_list</th>\n",
       "      <th>required_car_parking_spaces</th>\n",
       "      <th>total_of_special_requests</th>\n",
       "    </tr>\n",
       "  </thead>\n",
       "  <tbody>\n",
       "    <tr>\n",
       "      <th>0</th>\n",
       "      <td>0.0</td>\n",
       "      <td>1.0</td>\n",
       "      <td>1.0</td>\n",
       "      <td>0.0</td>\n",
       "      <td>0.0</td>\n",
       "      <td>0.0</td>\n",
       "      <td>1.0</td>\n",
       "      <td>0.0</td>\n",
       "      <td>0.0</td>\n",
       "      <td>0.0</td>\n",
       "      <td>...</td>\n",
       "      <td>0.0</td>\n",
       "      <td>0.0</td>\n",
       "      <td>1.0</td>\n",
       "      <td>2.0</td>\n",
       "      <td>0.0</td>\n",
       "      <td>0.0</td>\n",
       "      <td>0.0</td>\n",
       "      <td>0.0</td>\n",
       "      <td>0.0</td>\n",
       "      <td>0.0</td>\n",
       "    </tr>\n",
       "    <tr>\n",
       "      <th>1</th>\n",
       "      <td>0.0</td>\n",
       "      <td>1.0</td>\n",
       "      <td>0.0</td>\n",
       "      <td>0.0</td>\n",
       "      <td>0.0</td>\n",
       "      <td>1.0</td>\n",
       "      <td>0.0</td>\n",
       "      <td>0.0</td>\n",
       "      <td>0.0</td>\n",
       "      <td>0.0</td>\n",
       "      <td>...</td>\n",
       "      <td>0.0</td>\n",
       "      <td>0.0</td>\n",
       "      <td>1.0</td>\n",
       "      <td>2.0</td>\n",
       "      <td>0.0</td>\n",
       "      <td>0.0</td>\n",
       "      <td>0.0</td>\n",
       "      <td>0.0</td>\n",
       "      <td>0.0</td>\n",
       "      <td>0.0</td>\n",
       "    </tr>\n",
       "    <tr>\n",
       "      <th>2</th>\n",
       "      <td>0.0</td>\n",
       "      <td>1.0</td>\n",
       "      <td>0.0</td>\n",
       "      <td>0.0</td>\n",
       "      <td>0.0</td>\n",
       "      <td>1.0</td>\n",
       "      <td>0.0</td>\n",
       "      <td>0.0</td>\n",
       "      <td>0.0</td>\n",
       "      <td>0.0</td>\n",
       "      <td>...</td>\n",
       "      <td>0.0</td>\n",
       "      <td>0.0</td>\n",
       "      <td>1.0</td>\n",
       "      <td>2.0</td>\n",
       "      <td>0.0</td>\n",
       "      <td>0.0</td>\n",
       "      <td>0.0</td>\n",
       "      <td>0.0</td>\n",
       "      <td>0.0</td>\n",
       "      <td>0.0</td>\n",
       "    </tr>\n",
       "    <tr>\n",
       "      <th>3</th>\n",
       "      <td>0.0</td>\n",
       "      <td>1.0</td>\n",
       "      <td>0.0</td>\n",
       "      <td>0.0</td>\n",
       "      <td>0.0</td>\n",
       "      <td>1.0</td>\n",
       "      <td>0.0</td>\n",
       "      <td>0.0</td>\n",
       "      <td>0.0</td>\n",
       "      <td>0.0</td>\n",
       "      <td>...</td>\n",
       "      <td>0.0</td>\n",
       "      <td>0.0</td>\n",
       "      <td>1.0</td>\n",
       "      <td>2.0</td>\n",
       "      <td>0.0</td>\n",
       "      <td>0.0</td>\n",
       "      <td>0.0</td>\n",
       "      <td>0.0</td>\n",
       "      <td>1.0</td>\n",
       "      <td>2.0</td>\n",
       "    </tr>\n",
       "    <tr>\n",
       "      <th>4</th>\n",
       "      <td>0.0</td>\n",
       "      <td>1.0</td>\n",
       "      <td>1.0</td>\n",
       "      <td>0.0</td>\n",
       "      <td>0.0</td>\n",
       "      <td>1.0</td>\n",
       "      <td>1.0</td>\n",
       "      <td>0.0</td>\n",
       "      <td>0.0</td>\n",
       "      <td>0.0</td>\n",
       "      <td>...</td>\n",
       "      <td>0.0</td>\n",
       "      <td>1.0</td>\n",
       "      <td>0.0</td>\n",
       "      <td>2.0</td>\n",
       "      <td>0.0</td>\n",
       "      <td>0.0</td>\n",
       "      <td>0.0</td>\n",
       "      <td>0.0</td>\n",
       "      <td>0.0</td>\n",
       "      <td>0.0</td>\n",
       "    </tr>\n",
       "  </tbody>\n",
       "</table>\n",
       "<p>5 rows × 27 columns</p>\n",
       "</div>"
      ],
      "text/plain": [
       "   market_segment_Direct  market_segment_TA/TO  deposit_type_Non Refund  \\\n",
       "0                    0.0                   1.0                      1.0   \n",
       "1                    0.0                   1.0                      0.0   \n",
       "2                    0.0                   1.0                      0.0   \n",
       "3                    0.0                   1.0                      0.0   \n",
       "4                    0.0                   1.0                      1.0   \n",
       "\n",
       "   deposit_type_Refundable  meal_0  meal_1  meal_2  country_0  country_1  \\\n",
       "0                      0.0     0.0     0.0     1.0        0.0        0.0   \n",
       "1                      0.0     0.0     1.0     0.0        0.0        0.0   \n",
       "2                      0.0     0.0     1.0     0.0        0.0        0.0   \n",
       "3                      0.0     0.0     1.0     0.0        0.0        0.0   \n",
       "4                      0.0     0.0     1.0     1.0        0.0        0.0   \n",
       "\n",
       "   country_2  ...  customer_type_0  customer_type_1  customer_type_2  adults  \\\n",
       "0        0.0  ...              0.0              0.0              1.0     2.0   \n",
       "1        0.0  ...              0.0              0.0              1.0     2.0   \n",
       "2        0.0  ...              0.0              0.0              1.0     2.0   \n",
       "3        0.0  ...              0.0              0.0              1.0     2.0   \n",
       "4        0.0  ...              0.0              1.0              0.0     2.0   \n",
       "\n",
       "   children  babies  booking_changes  days_in_waiting_list  \\\n",
       "0       0.0     0.0              0.0                   0.0   \n",
       "1       0.0     0.0              0.0                   0.0   \n",
       "2       0.0     0.0              0.0                   0.0   \n",
       "3       0.0     0.0              0.0                   0.0   \n",
       "4       0.0     0.0              0.0                   0.0   \n",
       "\n",
       "   required_car_parking_spaces  total_of_special_requests  \n",
       "0                          0.0                        0.0  \n",
       "1                          0.0                        0.0  \n",
       "2                          0.0                        0.0  \n",
       "3                          1.0                        2.0  \n",
       "4                          0.0                        0.0  \n",
       "\n",
       "[5 rows x 27 columns]"
      ]
     },
     "execution_count": 39,
     "metadata": {},
     "output_type": "execute_result"
    }
   ],
   "source": [
    "x_train_preprocessed.head()"
   ]
  },
  {
   "cell_type": "markdown",
   "id": "850240e5",
   "metadata": {},
   "source": [
    "### Choose Model"
   ]
  },
  {
   "cell_type": "code",
   "execution_count": 40,
   "id": "d9890c60",
   "metadata": {
    "ExecuteTime": {
     "end_time": "2022-02-07T01:58:44.859880Z",
     "start_time": "2022-02-07T01:58:44.692702Z"
    }
   },
   "outputs": [],
   "source": [
    "logreg=LogisticRegression(solver='liblinear', random_state=2020)\n",
    "knn=KNeighborsClassifier()\n",
    "tree=DecisionTreeClassifier(max_depth=5, criterion='entropy')"
   ]
  },
  {
   "cell_type": "code",
   "execution_count": 41,
   "id": "e94a3c04",
   "metadata": {
    "ExecuteTime": {
     "end_time": "2022-02-07T01:58:45.167837Z",
     "start_time": "2022-02-07T01:58:44.861043Z"
    }
   },
   "outputs": [],
   "source": [
    "def model_evaluation_cv(model, metric):\n",
    "    skfold=StratifiedKFold(n_splits=5)\n",
    "    return cross_val_score(model, x_train_preprocessed, y_train, cv=skfold, scoring=metric)"
   ]
  },
  {
   "cell_type": "code",
   "execution_count": 42,
   "id": "bde72014",
   "metadata": {
    "ExecuteTime": {
     "end_time": "2022-02-07T01:58:45.412496Z",
     "start_time": "2022-02-07T01:58:45.167837Z"
    }
   },
   "outputs": [],
   "source": [
    "def print_result(model_cv):\n",
    "    print('cv mean', model_cv.mean())\n",
    "    print('cv std', model_cv.std())"
   ]
  },
  {
   "cell_type": "code",
   "execution_count": 43,
   "id": "91ee510b",
   "metadata": {
    "ExecuteTime": {
     "end_time": "2022-02-07T01:58:46.768970Z",
     "start_time": "2022-02-07T01:58:45.412496Z"
    }
   },
   "outputs": [],
   "source": [
    "logreg_recall=model_evaluation_cv(logreg,'recall')\n",
    "knn_recall=model_evaluation_cv(knn,'recall')\n",
    "tree_recall=model_evaluation_cv(tree,'recall')"
   ]
  },
  {
   "cell_type": "code",
   "execution_count": 44,
   "id": "1b250b53",
   "metadata": {
    "ExecuteTime": {
     "end_time": "2022-02-07T01:58:46.793394Z",
     "start_time": "2022-02-07T01:58:46.768970Z"
    }
   },
   "outputs": [
    {
     "name": "stdout",
     "output_type": "stream",
     "text": [
      "Logreg\n",
      "cv mean 0.938447927199191\n",
      "cv std 0.01059855808363952\n",
      "KNN\n",
      "cv mean 0.893727671048197\n",
      "cv std 0.001455147961068154\n",
      "Tree\n",
      "cv mean 0.9168891135827435\n",
      "cv std 0.07232655757251612\n"
     ]
    }
   ],
   "source": [
    "print('Logreg')\n",
    "print_result(logreg_recall)\n",
    "print('KNN')\n",
    "print_result(knn_recall)\n",
    "print('Tree')\n",
    "print_result(tree_recall)"
   ]
  },
  {
   "cell_type": "markdown",
   "id": "3bd21234",
   "metadata": {},
   "source": [
    "Based on above result Logreg is the best model since it has the higher score and the standard deviation is still low.\n",
    "The work of this model is similar with linear regression. In this model we categorize result to two classification (cancel or not cancel), based on several features."
   ]
  },
  {
   "cell_type": "code",
   "execution_count": 45,
   "id": "cbe7595b",
   "metadata": {
    "ExecuteTime": {
     "end_time": "2022-02-07T01:58:47.213689Z",
     "start_time": "2022-02-07T01:58:46.795213Z"
    }
   },
   "outputs": [
    {
     "data": {
      "text/plain": [
       "LogisticRegression(random_state=2020, solver='liblinear')"
      ]
     },
     "execution_count": 45,
     "metadata": {},
     "output_type": "execute_result"
    }
   ],
   "source": [
    "logreg=LogisticRegression(solver='liblinear', random_state=2020)\n",
    "logreg.fit(x_train_preprocessed, y_train) "
   ]
  },
  {
   "cell_type": "code",
   "execution_count": 46,
   "id": "9c328bc1",
   "metadata": {
    "ExecuteTime": {
     "end_time": "2022-02-07T01:58:47.449182Z",
     "start_time": "2022-02-07T01:58:47.213689Z"
    }
   },
   "outputs": [],
   "source": [
    "y_pred=logreg.predict(x_test_preprocessed)\n",
    "y_proba= logreg.predict_proba(x_test_preprocessed)"
   ]
  },
  {
   "cell_type": "code",
   "execution_count": 47,
   "id": "11040416",
   "metadata": {
    "ExecuteTime": {
     "end_time": "2022-02-07T01:58:47.553520Z",
     "start_time": "2022-02-07T01:58:47.452260Z"
    }
   },
   "outputs": [
    {
     "name": "stdout",
     "output_type": "stream",
     "text": [
      "Recall 0.9165217391304348\n"
     ]
    }
   ],
   "source": [
    "print('Recall', recall_score(y_test,y_pred))"
   ]
  },
  {
   "cell_type": "code",
   "execution_count": 48,
   "id": "12ce3a82",
   "metadata": {
    "ExecuteTime": {
     "end_time": "2022-02-07T01:58:47.742265Z",
     "start_time": "2022-02-07T01:58:47.556586Z"
    }
   },
   "outputs": [
    {
     "name": "stdout",
     "output_type": "stream",
     "text": [
      "              precision    recall  f1-score   support\n",
      "\n",
      "           0       0.92      0.77      0.84       674\n",
      "           1       0.78      0.92      0.84       575\n",
      "\n",
      "    accuracy                           0.84      1249\n",
      "   macro avg       0.85      0.85      0.84      1249\n",
      "weighted avg       0.85      0.84      0.84      1249\n",
      "\n"
     ]
    }
   ],
   "source": [
    "print(classification_report(y_test,y_pred)) #summary"
   ]
  },
  {
   "cell_type": "markdown",
   "id": "cf4febd3",
   "metadata": {},
   "source": [
    "## Setelah Anda memilih benchmark model terbaik, lakukan hyperparameter tunning untuk meningkatkan preforma model Anda! `Parameter` apa saja yang anda pilih untuk `tunning`? Jelaskan maksud dari tiap-tiap parameter tersebut!"
   ]
  },
  {
   "cell_type": "code",
   "execution_count": 49,
   "id": "b6f680bf",
   "metadata": {
    "ExecuteTime": {
     "end_time": "2022-02-07T01:58:47.886492Z",
     "start_time": "2022-02-07T01:58:47.744018Z"
    }
   },
   "outputs": [],
   "source": [
    "from sklearn.model_selection import GridSearchCV"
   ]
  },
  {
   "cell_type": "code",
   "execution_count": 50,
   "id": "6bbd7b8d",
   "metadata": {
    "ExecuteTime": {
     "end_time": "2022-02-07T01:58:48.113042Z",
     "start_time": "2022-02-07T01:58:47.890351Z"
    }
   },
   "outputs": [
    {
     "data": {
      "text/plain": [
       "{'C': 1.0,\n",
       " 'class_weight': None,\n",
       " 'dual': False,\n",
       " 'fit_intercept': True,\n",
       " 'intercept_scaling': 1,\n",
       " 'l1_ratio': None,\n",
       " 'max_iter': 100,\n",
       " 'multi_class': 'auto',\n",
       " 'n_jobs': None,\n",
       " 'penalty': 'l2',\n",
       " 'random_state': 2020,\n",
       " 'solver': 'liblinear',\n",
       " 'tol': 0.0001,\n",
       " 'verbose': 0,\n",
       " 'warm_start': False}"
      ]
     },
     "execution_count": 50,
     "metadata": {},
     "output_type": "execute_result"
    }
   ],
   "source": [
    "logreg.get_params()"
   ]
  },
  {
   "cell_type": "code",
   "execution_count": 51,
   "id": "2c766a3a",
   "metadata": {
    "ExecuteTime": {
     "end_time": "2022-02-07T01:58:48.347632Z",
     "start_time": "2022-02-07T01:58:48.113042Z"
    }
   },
   "outputs": [],
   "source": [
    "logreg_para = {'solver': ['liblinear','newton-cg','lbfgs'],\n",
    "             'max_iter': [50,100,150]}"
   ]
  },
  {
   "cell_type": "code",
   "execution_count": 52,
   "id": "dc5dd910",
   "metadata": {
    "ExecuteTime": {
     "end_time": "2022-02-07T01:58:48.451812Z",
     "start_time": "2022-02-07T01:58:48.347632Z"
    }
   },
   "outputs": [],
   "source": [
    "skfold=StratifiedKFold(n_splits=5)\n",
    "logreg1=LogisticRegression(random_state=2020)\n",
    "grid_search = GridSearchCV(logreg1, logreg_para, cv=skfold, scoring='recall', n_jobs=-1)"
   ]
  },
  {
   "cell_type": "code",
   "execution_count": 53,
   "id": "f49d8ef7",
   "metadata": {
    "ExecuteTime": {
     "end_time": "2022-02-07T01:58:51.263552Z",
     "start_time": "2022-02-07T01:58:48.455874Z"
    }
   },
   "outputs": [
    {
     "data": {
      "text/plain": [
       "GridSearchCV(cv=StratifiedKFold(n_splits=5, random_state=None, shuffle=False),\n",
       "             estimator=LogisticRegression(random_state=2020), n_jobs=-1,\n",
       "             param_grid={'max_iter': [50, 100, 150],\n",
       "                         'solver': ['liblinear', 'newton-cg', 'lbfgs']},\n",
       "             scoring='recall')"
      ]
     },
     "execution_count": 53,
     "metadata": {},
     "output_type": "execute_result"
    }
   ],
   "source": [
    "grid_search.fit(x_train_preprocessed,y_train)"
   ]
  },
  {
   "cell_type": "code",
   "execution_count": 54,
   "id": "0ba98aed",
   "metadata": {
    "ExecuteTime": {
     "end_time": "2022-02-07T01:58:51.281213Z",
     "start_time": "2022-02-07T01:58:51.266199Z"
    }
   },
   "outputs": [
    {
     "name": "stdout",
     "output_type": "stream",
     "text": [
      "best score 0.938447927199191\n",
      "best param {'max_iter': 50, 'solver': 'liblinear'}\n"
     ]
    }
   ],
   "source": [
    "print('best score', grid_search.best_score_)\n",
    "print('best param', grid_search.best_params_)"
   ]
  },
  {
   "cell_type": "code",
   "execution_count": 55,
   "id": "18fb25cc",
   "metadata": {
    "ExecuteTime": {
     "end_time": "2022-02-07T01:58:51.540447Z",
     "start_time": "2022-02-07T01:58:51.285453Z"
    }
   },
   "outputs": [
    {
     "data": {
      "text/html": [
       "<div>\n",
       "<style scoped>\n",
       "    .dataframe tbody tr th:only-of-type {\n",
       "        vertical-align: middle;\n",
       "    }\n",
       "\n",
       "    .dataframe tbody tr th {\n",
       "        vertical-align: top;\n",
       "    }\n",
       "\n",
       "    .dataframe thead th {\n",
       "        text-align: right;\n",
       "    }\n",
       "</style>\n",
       "<table border=\"1\" class=\"dataframe\">\n",
       "  <thead>\n",
       "    <tr style=\"text-align: right;\">\n",
       "      <th></th>\n",
       "      <th>mean_fit_time</th>\n",
       "      <th>std_fit_time</th>\n",
       "      <th>mean_score_time</th>\n",
       "      <th>std_score_time</th>\n",
       "      <th>param_max_iter</th>\n",
       "      <th>param_solver</th>\n",
       "      <th>params</th>\n",
       "      <th>split0_test_score</th>\n",
       "      <th>split1_test_score</th>\n",
       "      <th>split2_test_score</th>\n",
       "      <th>split3_test_score</th>\n",
       "      <th>split4_test_score</th>\n",
       "      <th>mean_test_score</th>\n",
       "      <th>std_test_score</th>\n",
       "      <th>rank_test_score</th>\n",
       "    </tr>\n",
       "  </thead>\n",
       "  <tbody>\n",
       "    <tr>\n",
       "      <th>0</th>\n",
       "      <td>0.040795</td>\n",
       "      <td>0.007709</td>\n",
       "      <td>0.020575</td>\n",
       "      <td>0.005050</td>\n",
       "      <td>50</td>\n",
       "      <td>liblinear</td>\n",
       "      <td>{'max_iter': 50, 'solver': 'liblinear'}</td>\n",
       "      <td>0.936232</td>\n",
       "      <td>0.933333</td>\n",
       "      <td>0.956395</td>\n",
       "      <td>0.924419</td>\n",
       "      <td>0.941860</td>\n",
       "      <td>0.938448</td>\n",
       "      <td>0.010599</td>\n",
       "      <td>1</td>\n",
       "    </tr>\n",
       "    <tr>\n",
       "      <th>3</th>\n",
       "      <td>0.017075</td>\n",
       "      <td>0.001353</td>\n",
       "      <td>0.001006</td>\n",
       "      <td>0.002011</td>\n",
       "      <td>100</td>\n",
       "      <td>liblinear</td>\n",
       "      <td>{'max_iter': 100, 'solver': 'liblinear'}</td>\n",
       "      <td>0.936232</td>\n",
       "      <td>0.933333</td>\n",
       "      <td>0.956395</td>\n",
       "      <td>0.924419</td>\n",
       "      <td>0.941860</td>\n",
       "      <td>0.938448</td>\n",
       "      <td>0.010599</td>\n",
       "      <td>1</td>\n",
       "    </tr>\n",
       "    <tr>\n",
       "      <th>6</th>\n",
       "      <td>0.015842</td>\n",
       "      <td>0.000819</td>\n",
       "      <td>0.002931</td>\n",
       "      <td>0.001767</td>\n",
       "      <td>150</td>\n",
       "      <td>liblinear</td>\n",
       "      <td>{'max_iter': 150, 'solver': 'liblinear'}</td>\n",
       "      <td>0.936232</td>\n",
       "      <td>0.933333</td>\n",
       "      <td>0.956395</td>\n",
       "      <td>0.924419</td>\n",
       "      <td>0.941860</td>\n",
       "      <td>0.938448</td>\n",
       "      <td>0.010599</td>\n",
       "      <td>1</td>\n",
       "    </tr>\n",
       "    <tr>\n",
       "      <th>2</th>\n",
       "      <td>0.068894</td>\n",
       "      <td>0.010234</td>\n",
       "      <td>0.006709</td>\n",
       "      <td>0.002094</td>\n",
       "      <td>50</td>\n",
       "      <td>lbfgs</td>\n",
       "      <td>{'max_iter': 50, 'solver': 'lbfgs'}</td>\n",
       "      <td>0.936232</td>\n",
       "      <td>0.933333</td>\n",
       "      <td>0.941860</td>\n",
       "      <td>0.924419</td>\n",
       "      <td>0.941860</td>\n",
       "      <td>0.935541</td>\n",
       "      <td>0.006464</td>\n",
       "      <td>4</td>\n",
       "    </tr>\n",
       "    <tr>\n",
       "      <th>1</th>\n",
       "      <td>0.073850</td>\n",
       "      <td>0.017390</td>\n",
       "      <td>0.003379</td>\n",
       "      <td>0.002375</td>\n",
       "      <td>50</td>\n",
       "      <td>newton-cg</td>\n",
       "      <td>{'max_iter': 50, 'solver': 'newton-cg'}</td>\n",
       "      <td>0.936232</td>\n",
       "      <td>0.930435</td>\n",
       "      <td>0.941860</td>\n",
       "      <td>0.924419</td>\n",
       "      <td>0.936047</td>\n",
       "      <td>0.933798</td>\n",
       "      <td>0.005921</td>\n",
       "      <td>5</td>\n",
       "    </tr>\n",
       "    <tr>\n",
       "      <th>4</th>\n",
       "      <td>0.052706</td>\n",
       "      <td>0.003348</td>\n",
       "      <td>0.004975</td>\n",
       "      <td>0.003353</td>\n",
       "      <td>100</td>\n",
       "      <td>newton-cg</td>\n",
       "      <td>{'max_iter': 100, 'solver': 'newton-cg'}</td>\n",
       "      <td>0.936232</td>\n",
       "      <td>0.930435</td>\n",
       "      <td>0.941860</td>\n",
       "      <td>0.924419</td>\n",
       "      <td>0.936047</td>\n",
       "      <td>0.933798</td>\n",
       "      <td>0.005921</td>\n",
       "      <td>5</td>\n",
       "    </tr>\n",
       "    <tr>\n",
       "      <th>5</th>\n",
       "      <td>0.045859</td>\n",
       "      <td>0.005949</td>\n",
       "      <td>0.006733</td>\n",
       "      <td>0.001425</td>\n",
       "      <td>100</td>\n",
       "      <td>lbfgs</td>\n",
       "      <td>{'max_iter': 100, 'solver': 'lbfgs'}</td>\n",
       "      <td>0.936232</td>\n",
       "      <td>0.930435</td>\n",
       "      <td>0.941860</td>\n",
       "      <td>0.924419</td>\n",
       "      <td>0.936047</td>\n",
       "      <td>0.933798</td>\n",
       "      <td>0.005921</td>\n",
       "      <td>5</td>\n",
       "    </tr>\n",
       "    <tr>\n",
       "      <th>7</th>\n",
       "      <td>0.053217</td>\n",
       "      <td>0.005163</td>\n",
       "      <td>0.005568</td>\n",
       "      <td>0.002822</td>\n",
       "      <td>150</td>\n",
       "      <td>newton-cg</td>\n",
       "      <td>{'max_iter': 150, 'solver': 'newton-cg'}</td>\n",
       "      <td>0.936232</td>\n",
       "      <td>0.930435</td>\n",
       "      <td>0.941860</td>\n",
       "      <td>0.924419</td>\n",
       "      <td>0.936047</td>\n",
       "      <td>0.933798</td>\n",
       "      <td>0.005921</td>\n",
       "      <td>5</td>\n",
       "    </tr>\n",
       "    <tr>\n",
       "      <th>8</th>\n",
       "      <td>0.040440</td>\n",
       "      <td>0.012696</td>\n",
       "      <td>0.002898</td>\n",
       "      <td>0.002943</td>\n",
       "      <td>150</td>\n",
       "      <td>lbfgs</td>\n",
       "      <td>{'max_iter': 150, 'solver': 'lbfgs'}</td>\n",
       "      <td>0.936232</td>\n",
       "      <td>0.930435</td>\n",
       "      <td>0.941860</td>\n",
       "      <td>0.924419</td>\n",
       "      <td>0.936047</td>\n",
       "      <td>0.933798</td>\n",
       "      <td>0.005921</td>\n",
       "      <td>5</td>\n",
       "    </tr>\n",
       "  </tbody>\n",
       "</table>\n",
       "</div>"
      ],
      "text/plain": [
       "   mean_fit_time  std_fit_time  mean_score_time  std_score_time  \\\n",
       "0       0.040795      0.007709         0.020575        0.005050   \n",
       "3       0.017075      0.001353         0.001006        0.002011   \n",
       "6       0.015842      0.000819         0.002931        0.001767   \n",
       "2       0.068894      0.010234         0.006709        0.002094   \n",
       "1       0.073850      0.017390         0.003379        0.002375   \n",
       "4       0.052706      0.003348         0.004975        0.003353   \n",
       "5       0.045859      0.005949         0.006733        0.001425   \n",
       "7       0.053217      0.005163         0.005568        0.002822   \n",
       "8       0.040440      0.012696         0.002898        0.002943   \n",
       "\n",
       "  param_max_iter param_solver                                    params  \\\n",
       "0             50    liblinear   {'max_iter': 50, 'solver': 'liblinear'}   \n",
       "3            100    liblinear  {'max_iter': 100, 'solver': 'liblinear'}   \n",
       "6            150    liblinear  {'max_iter': 150, 'solver': 'liblinear'}   \n",
       "2             50        lbfgs       {'max_iter': 50, 'solver': 'lbfgs'}   \n",
       "1             50    newton-cg   {'max_iter': 50, 'solver': 'newton-cg'}   \n",
       "4            100    newton-cg  {'max_iter': 100, 'solver': 'newton-cg'}   \n",
       "5            100        lbfgs      {'max_iter': 100, 'solver': 'lbfgs'}   \n",
       "7            150    newton-cg  {'max_iter': 150, 'solver': 'newton-cg'}   \n",
       "8            150        lbfgs      {'max_iter': 150, 'solver': 'lbfgs'}   \n",
       "\n",
       "   split0_test_score  split1_test_score  split2_test_score  split3_test_score  \\\n",
       "0           0.936232           0.933333           0.956395           0.924419   \n",
       "3           0.936232           0.933333           0.956395           0.924419   \n",
       "6           0.936232           0.933333           0.956395           0.924419   \n",
       "2           0.936232           0.933333           0.941860           0.924419   \n",
       "1           0.936232           0.930435           0.941860           0.924419   \n",
       "4           0.936232           0.930435           0.941860           0.924419   \n",
       "5           0.936232           0.930435           0.941860           0.924419   \n",
       "7           0.936232           0.930435           0.941860           0.924419   \n",
       "8           0.936232           0.930435           0.941860           0.924419   \n",
       "\n",
       "   split4_test_score  mean_test_score  std_test_score  rank_test_score  \n",
       "0           0.941860         0.938448        0.010599                1  \n",
       "3           0.941860         0.938448        0.010599                1  \n",
       "6           0.941860         0.938448        0.010599                1  \n",
       "2           0.941860         0.935541        0.006464                4  \n",
       "1           0.936047         0.933798        0.005921                5  \n",
       "4           0.936047         0.933798        0.005921                5  \n",
       "5           0.936047         0.933798        0.005921                5  \n",
       "7           0.936047         0.933798        0.005921                5  \n",
       "8           0.936047         0.933798        0.005921                5  "
      ]
     },
     "execution_count": 55,
     "metadata": {},
     "output_type": "execute_result"
    }
   ],
   "source": [
    "pd.DataFrame(grid_search.cv_results_).sort_values(by='rank_test_score')"
   ]
  },
  {
   "cell_type": "markdown",
   "id": "4a8f09ae",
   "metadata": {
    "ExecuteTime": {
     "end_time": "2022-02-06T17:53:29.309888Z",
     "start_time": "2022-02-06T17:53:29.304855Z"
    }
   },
   "source": [
    "before vs after tunning"
   ]
  },
  {
   "cell_type": "code",
   "execution_count": 56,
   "id": "58eaa264",
   "metadata": {
    "ExecuteTime": {
     "end_time": "2022-02-07T01:58:51.704702Z",
     "start_time": "2022-02-07T01:58:51.540447Z"
    }
   },
   "outputs": [
    {
     "name": "stdout",
     "output_type": "stream",
     "text": [
      "              precision    recall  f1-score   support\n",
      "\n",
      "           0       0.92      0.77      0.84       674\n",
      "           1       0.78      0.92      0.84       575\n",
      "\n",
      "    accuracy                           0.84      1249\n",
      "   macro avg       0.85      0.85      0.84      1249\n",
      "weighted avg       0.85      0.84      0.84      1249\n",
      "\n"
     ]
    }
   ],
   "source": [
    "logreg=LogisticRegression(solver='liblinear', random_state=2020)\n",
    "logreg.fit(x_train_preprocessed, y_train)\n",
    "y_pred=logreg.predict(x_test_preprocessed)\n",
    "print(classification_report(y_test,y_pred))"
   ]
  },
  {
   "cell_type": "code",
   "execution_count": 57,
   "id": "9141bea4",
   "metadata": {
    "ExecuteTime": {
     "end_time": "2022-02-07T01:58:51.742054Z",
     "start_time": "2022-02-07T01:58:51.704702Z"
    }
   },
   "outputs": [
    {
     "data": {
      "text/plain": [
       "0.9165217391304348"
      ]
     },
     "execution_count": 57,
     "metadata": {},
     "output_type": "execute_result"
    }
   ],
   "source": [
    "from sklearn.metrics import recall_score\n",
    "recall_score(y_test,y_pred)"
   ]
  },
  {
   "cell_type": "code",
   "execution_count": 58,
   "id": "e40dfb94",
   "metadata": {
    "ExecuteTime": {
     "end_time": "2022-02-07T01:58:51.862393Z",
     "start_time": "2022-02-07T01:58:51.744288Z"
    }
   },
   "outputs": [
    {
     "name": "stdout",
     "output_type": "stream",
     "text": [
      "              precision    recall  f1-score   support\n",
      "\n",
      "           0       0.92      0.77      0.84       674\n",
      "           1       0.78      0.92      0.84       575\n",
      "\n",
      "    accuracy                           0.84      1249\n",
      "   macro avg       0.85      0.85      0.84      1249\n",
      "weighted avg       0.85      0.84      0.84      1249\n",
      "\n"
     ]
    }
   ],
   "source": [
    "logreg1=grid_search.best_estimator_\n",
    "logreg1.fit(x_train_preprocessed,y_train)\n",
    "y_pred1=logreg1.predict(x_test_preprocessed)\n",
    "print(classification_report(y_test,y_pred1))"
   ]
  },
  {
   "cell_type": "code",
   "execution_count": 59,
   "id": "0c78949a",
   "metadata": {
    "ExecuteTime": {
     "end_time": "2022-02-07T01:58:51.898982Z",
     "start_time": "2022-02-07T01:58:51.862393Z"
    }
   },
   "outputs": [
    {
     "data": {
      "text/plain": [
       "0.9165217391304348"
      ]
     },
     "execution_count": 59,
     "metadata": {},
     "output_type": "execute_result"
    }
   ],
   "source": [
    "recall_score(y_test,y_pred1)"
   ]
  },
  {
   "cell_type": "markdown",
   "id": "6cd41a30",
   "metadata": {},
   "source": [
    "## Bagaimana performa model Anda setelah Hyper-parameter Tuning? Apakah ada tahap lanjutan yang bisa Anda lakukan untuk meningkatkan performa model lebih jauh? Buat kesimpulan akhir, model mana yang akan Anda pakai untuk memprediksi apakah user akan cancel booking atau tidak!"
   ]
  },
  {
   "cell_type": "markdown",
   "id": "195ddbd3",
   "metadata": {},
   "source": [
    "The model performance before Hyper-parameter Tunning is already high, and it doesn't improve after the tunning. So I will use Logreg with Liblinear solver to predict cancelation booking."
   ]
  }
 ],
 "metadata": {
  "kernelspec": {
   "display_name": "Python 3",
   "language": "python",
   "name": "python3"
  },
  "language_info": {
   "codemirror_mode": {
    "name": "ipython",
    "version": 3
   },
   "file_extension": ".py",
   "mimetype": "text/x-python",
   "name": "python",
   "nbconvert_exporter": "python",
   "pygments_lexer": "ipython3",
   "version": "3.8.8"
  },
  "toc": {
   "base_numbering": 1,
   "nav_menu": {},
   "number_sections": true,
   "sideBar": true,
   "skip_h1_title": false,
   "title_cell": "Table of Contents",
   "title_sidebar": "Contents",
   "toc_cell": false,
   "toc_position": {
    "height": "calc(100% - 180px)",
    "left": "10px",
    "top": "150px",
    "width": "384px"
   },
   "toc_section_display": true,
   "toc_window_display": false
  }
 },
 "nbformat": 4,
 "nbformat_minor": 5
}
